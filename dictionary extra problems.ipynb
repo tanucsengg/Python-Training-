{
 "cells": [
  {
   "cell_type": "markdown",
   "id": "d43d0fad",
   "metadata": {},
   "source": [
    "# Python Excercise questions \n"
   ]
  },
  {
   "cell_type": "code",
   "execution_count": 1,
   "id": "cf5ab14a",
   "metadata": {},
   "outputs": [
    {
     "data": {
      "text/plain": [
       "[('ten', 10), ('twenty', 20), ('Thirty', 30)]"
      ]
     },
     "execution_count": 1,
     "metadata": {},
     "output_type": "execute_result"
    }
   ],
   "source": [
    "# Convert two list into dictionary\n",
    "keys = ['ten','twenty','Thirty']\n",
    "values = [10,20,30]\n",
    "res_dict = (list(zip(keys,values)))\n",
    "\n",
    "## Zip function doesn't return the value as such thus need \n",
    "## to put in the tuple\n",
    "res_dict"
   ]
  },
  {
   "cell_type": "code",
   "execution_count": 2,
   "id": "671cdbda",
   "metadata": {},
   "outputs": [
    {
     "name": "stdout",
     "output_type": "stream",
     "text": [
      "{'ten': 10, 'twenty': 20, 'Thirty': 30}\n"
     ]
    }
   ],
   "source": [
    "# Using a loop and update method in dictionary\n",
    "keys = ['ten','twenty','Thirty']\n",
    "values = [10,20,30]\n",
    "\n",
    "# empty dictionary \n",
    "res_dict = {}\n",
    "\n",
    "for i in range(len(keys)):\n",
    "    res_dict.update({keys[i]: values[i]})\n",
    "print(res_dict)\n"
   ]
  },
  {
   "cell_type": "code",
   "execution_count": 3,
   "id": "961c77a6",
   "metadata": {},
   "outputs": [
    {
     "name": "stdout",
     "output_type": "stream",
     "text": [
      "{'Ten': 10, 'Twenty': 20, 'Thirty': 30, 'Fourty': 40, 'Fifty': 50}\n"
     ]
    }
   ],
   "source": [
    "# Merge two python dictionaries into one\n",
    "dict1 = {'Ten':10, 'Twenty': 20, 'Thirty':30}\n",
    "dict2 = {'Thirty':30, 'Fourty':40, 'Fifty':50}\n",
    "\n",
    "res_dict = {**dict1, **dict2}\n",
    "print(res_dict)"
   ]
  },
  {
   "cell_type": "code",
   "execution_count": 4,
   "id": "4650deb8",
   "metadata": {},
   "outputs": [],
   "source": [
    "sampleDict = {\n",
    "    \"class\": {\n",
    "        \"student\": {\n",
    "            \"name\": \"Mike\",\n",
    "            \"marks\": {\n",
    "                \"physics\": 70, \n",
    "                \"history\": 80\n",
    "            }\n",
    "        }\n",
    "    }\n",
    "}"
   ]
  },
  {
   "cell_type": "code",
   "execution_count": 5,
   "id": "7bae59ce",
   "metadata": {},
   "outputs": [
    {
     "name": "stdout",
     "output_type": "stream",
     "text": [
      "80\n"
     ]
    }
   ],
   "source": [
    "print(sampleDict['class']['student']['marks']['history'])"
   ]
  },
  {
   "cell_type": "code",
   "execution_count": 6,
   "id": "4ee49d5e",
   "metadata": {},
   "outputs": [
    {
     "name": "stdout",
     "output_type": "stream",
     "text": [
      "{'kelly': {'designation': 'Developer', 'salary': 8000}, 'Emma': {'designation': 'Developer', 'salary': 8000}}\n"
     ]
    }
   ],
   "source": [
    "# Initialize dictionary with default values\n",
    "employees = ['kelly','Emma']\n",
    "defaults = {'designation': 'Developer',\"salary\":8000}\n",
    "\n",
    "res_dict = {}\n",
    "res_dict = dict.fromkeys(employees,defaults)\n",
    "\n",
    "\n",
    "print(res_dict)"
   ]
  },
  {
   "cell_type": "code",
   "execution_count": 7,
   "id": "00a38757",
   "metadata": {},
   "outputs": [
    {
     "name": "stdout",
     "output_type": "stream",
     "text": [
      "{'name': 'Kelly', 'salary': 8000}\n"
     ]
    }
   ],
   "source": [
    "# create a dictionary by extracting the keys from a given dictionary\n",
    "sample_dict = {\n",
    "    \"name\" : \"Kelly\", \n",
    "    \"age\"  : 25, \n",
    "    \"salary\": 8000,\n",
    "    \"city\" : \"New York\"\n",
    "}\n",
    "\n",
    "# keys to extract\n",
    "keys = [\"name\",\"salary\"]\n",
    "\n",
    "res_dict = {k: sample_dict[k] for k in keys}\n",
    "\n",
    "print(res_dict)"
   ]
  },
  {
   "cell_type": "code",
   "execution_count": 8,
   "id": "0ab220db",
   "metadata": {},
   "outputs": [
    {
     "name": "stdout",
     "output_type": "stream",
     "text": [
      "{'city': 'New York', 'age': 25}\n"
     ]
    }
   ],
   "source": [
    "# delete a list of keys from the dictionary \n",
    "sample_dict = {\n",
    "    \"name\": \"Kelly\", \n",
    "    \"age\": 25, \n",
    "    \"salary\": 8000, \n",
    "    \"city\": \"New York\"\n",
    "}\n",
    "\n",
    "# Keys to remove \n",
    "keys = [\"name\", \"salary\"]\n",
    "\n",
    "sample_dict= {k:sample_dict[k] for k in sample_dict.keys() - keys}\n",
    "\n",
    "print(sample_dict)"
   ]
  },
  {
   "cell_type": "code",
   "execution_count": 9,
   "id": "d3d84285",
   "metadata": {},
   "outputs": [
    {
     "name": "stdout",
     "output_type": "stream",
     "text": [
      "200 present in the dict\n"
     ]
    }
   ],
   "source": [
    "# Check if the value 200 exists in the dictionary or not \n",
    "sample_dict = {'a':100, 'b':200 , 'c':300}\n",
    "\n",
    "if 200 in sample_dict.values():\n",
    "    \n",
    "    print('200 present in the dict')\n"
   ]
  },
  {
   "cell_type": "code",
   "execution_count": 10,
   "id": "fae9f930",
   "metadata": {},
   "outputs": [
    {
     "data": {
      "text/plain": [
       "{'name': 'Kelly', 'age': 25, 'salary': 8000, 'location': 'New York'}"
      ]
     },
     "execution_count": 10,
     "metadata": {},
     "output_type": "execute_result"
    }
   ],
   "source": [
    "# rename Key of a dictionary\n",
    "sample_dict = {\n",
    "    \"name\": \"Kelly\",\n",
    "    \"age\": 25, \n",
    "    \"salary\": 8000,\n",
    "    \"city\": \"New York\"\n",
    "}\n",
    "\n",
    "sample_dict['location'] = sample_dict.pop(\"city\")\n",
    "\n",
    "sample_dict"
   ]
  },
  {
   "cell_type": "code",
   "execution_count": 11,
   "id": "897d7fcc",
   "metadata": {},
   "outputs": [
    {
     "name": "stdout",
     "output_type": "stream",
     "text": [
      "Math\n"
     ]
    }
   ],
   "source": [
    "# get the key of the minimum value from the following dictionary\n",
    "\n",
    "sample_dict = {\n",
    "    'Physics': 82, \n",
    "    'Math': 65, \n",
    "    'History': 75\n",
    "}\n",
    "\n",
    "print(min(sample_dict,key = sample_dict.get))\n",
    "      \n",
    "    "
   ]
  },
  {
   "cell_type": "code",
   "execution_count": 12,
   "id": "431d6a5f",
   "metadata": {},
   "outputs": [],
   "source": [
    "# Change value of a key in the nested dictionary\n",
    "sample_dict = {\n",
    "    'emp1': {\"name\": 'Jhon', \"salary\": 7500}, \n",
    "    'emp2': {\"name\": \"Emma\", \"salary\": 8000}, \n",
    "    'emp3': {\"name\": \"Brad\", \"salary\": 500}\n",
    "}"
   ]
  },
  {
   "cell_type": "code",
   "execution_count": 13,
   "id": "0b87b353",
   "metadata": {},
   "outputs": [
    {
     "name": "stdout",
     "output_type": "stream",
     "text": [
      "{'emp1': {'name': 'Jhon', 'salary': 7500}, 'emp2': {'name': 'Emma', 'salary': 8000}, 'emp3': {'name': 'Brad', 'salary': 8500}}\n"
     ]
    }
   ],
   "source": [
    "sample_dict['emp3']['salary'] = 8500\n",
    "print(sample_dict)"
   ]
  },
  {
   "cell_type": "code",
   "execution_count": 16,
   "id": "838b4cc6",
   "metadata": {},
   "outputs": [
    {
     "name": "stdout",
     "output_type": "stream",
     "text": [
      "5 2\n",
      "a\n",
      "a\n",
      "b\n",
      "a\n",
      "b\n",
      "a\n",
      "b\n",
      "\n",
      "\n",
      "\n",
      "\n",
      "('a', [1, 2, 4])\n",
      "('b', [3, 5])\n"
     ]
    }
   ],
   "source": [
    "# Enter your code here. Read input from STDIN. Print output to STDOUT\n",
    "from collections import defaultdict\n",
    "\n",
    "n,m = map(int,input().split())\n",
    "# n = int(input()) # group A size \n",
    "# m = int(input()) # group B size\n",
    "d = defaultdict(list)\n",
    "\n",
    "lst1 = []\n",
    "lst2 = []\n",
    "\n",
    "for i in range(n):\n",
    "    lst1.append(input())\n",
    "\n",
    "for j in range(m):\n",
    "    lst2.append(input())\n",
    "    \n",
    "for k in range(len(lst2)):\n",
    "    for l in range(len(lst1)):\n",
    "        if lst2[k] == lst1[l]:\n",
    "            d[lst2[k]].append(l+1)\n",
    "     \n",
    "    print(\"\\n\")\n",
    "for i in d.items():\n",
    "    print(i)        \n",
    "    "
   ]
  },
  {
   "cell_type": "code",
   "execution_count": null,
   "id": "859f33f3",
   "metadata": {},
   "outputs": [],
   "source": []
  },
  {
   "cell_type": "code",
   "execution_count": null,
   "id": "d6f7ee3e",
   "metadata": {},
   "outputs": [],
   "source": []
  },
  {
   "cell_type": "code",
   "execution_count": null,
   "id": "d650fbfe",
   "metadata": {},
   "outputs": [],
   "source": []
  }
 ],
 "metadata": {
  "kernelspec": {
   "display_name": "Python 3",
   "language": "python",
   "name": "python3"
  },
  "language_info": {
   "codemirror_mode": {
    "name": "ipython",
    "version": 3
   },
   "file_extension": ".py",
   "mimetype": "text/x-python",
   "name": "python",
   "nbconvert_exporter": "python",
   "pygments_lexer": "ipython3",
   "version": "3.8.8"
  }
 },
 "nbformat": 4,
 "nbformat_minor": 5
}
