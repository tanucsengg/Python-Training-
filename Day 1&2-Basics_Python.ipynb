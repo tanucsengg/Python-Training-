{
 "cells": [
  {
   "cell_type": "markdown",
   "id": "29b34d77",
   "metadata": {},
   "source": [
    "**Basics Of Python**"
   ]
  },
  {
   "cell_type": "markdown",
   "id": "49758181",
   "metadata": {},
   "source": [
    "**Day 1**"
   ]
  },
  {
   "cell_type": "markdown",
   "id": "a51c55d4",
   "metadata": {},
   "source": [
    "*Install Python Follow the Link* \n",
    "https://www.python.org/downloads/ "
   ]
  },
  {
   "cell_type": "markdown",
   "id": "fdb8a76e",
   "metadata": {},
   "source": [
    "*Install Pycharm* Follow the Link  https://www.jetbrains.com/pycharm/download/ "
   ]
  },
  {
   "cell_type": "code",
   "execution_count": 1,
   "id": "879fbddd",
   "metadata": {},
   "outputs": [
    {
     "name": "stdout",
     "output_type": "stream",
     "text": [
      "hello world!!!\n"
     ]
    }
   ],
   "source": [
    "# print Hello World \n",
    "print(\"hello world!!!\")"
   ]
  },
  {
   "cell_type": "code",
   "execution_count": 114,
   "id": "64e6dffc",
   "metadata": {},
   "outputs": [
    {
     "name": "stdout",
     "output_type": "stream",
     "text": [
      "What is your Name\n",
      "\n",
      "\n",
      "My name is Dr. Tanu\n"
     ]
    }
   ],
   "source": [
    "print(\"What is your Name\")\n",
    "print(\"\\n\")\n",
    "print(\"My name is Dr. Tanu\")"
   ]
  },
  {
   "cell_type": "code",
   "execution_count": 8,
   "id": "a4c6736e",
   "metadata": {},
   "outputs": [
    {
     "name": "stdout",
     "output_type": "stream",
     "text": [
      " Welcome"
     ]
    }
   ],
   "source": [
    "print(\" Welcome\", end = \"\")"
   ]
  },
  {
   "cell_type": "code",
   "execution_count": 116,
   "id": "6af1dbca",
   "metadata": {},
   "outputs": [
    {
     "name": "stdout",
     "output_type": "stream",
     "text": [
      " Welcome."
     ]
    }
   ],
   "source": [
    "print(\" Welcome\", end = \".\")"
   ]
  },
  {
   "cell_type": "markdown",
   "id": "63b1d32e",
   "metadata": {},
   "source": [
    "**Declare and Use Variable**\n"
   ]
  },
  {
   "cell_type": "code",
   "execution_count": 118,
   "id": "168ec2bb",
   "metadata": {},
   "outputs": [
    {
     "name": "stdout",
     "output_type": "stream",
     "text": [
      "30\n"
     ]
    }
   ],
   "source": [
    "a = 20 \n",
    "b =10\n",
    "print(a+b)"
   ]
  },
  {
   "cell_type": "code",
   "execution_count": 119,
   "id": "2047bcd6",
   "metadata": {},
   "outputs": [
    {
     "ename": "TypeError",
     "evalue": "unsupported operand type(s) for +: 'int' and 'str'",
     "output_type": "error",
     "traceback": [
      "\u001b[1;31m---------------------------------------------------------------------------\u001b[0m",
      "\u001b[1;31mTypeError\u001b[0m                                 Traceback (most recent call last)",
      "\u001b[1;32m<ipython-input-119-4b7c011f46f2>\u001b[0m in \u001b[0;36m<module>\u001b[1;34m\u001b[0m\n\u001b[0;32m      1\u001b[0m \u001b[0ma\u001b[0m \u001b[1;33m=\u001b[0m \u001b[1;36m10\u001b[0m\u001b[1;33m\u001b[0m\u001b[1;33m\u001b[0m\u001b[0m\n\u001b[0;32m      2\u001b[0m \u001b[0mb\u001b[0m \u001b[1;33m=\u001b[0m \u001b[1;34m'Happy'\u001b[0m\u001b[1;33m\u001b[0m\u001b[1;33m\u001b[0m\u001b[0m\n\u001b[1;32m----> 3\u001b[1;33m \u001b[0mprint\u001b[0m\u001b[1;33m(\u001b[0m\u001b[0ma\u001b[0m\u001b[1;33m+\u001b[0m\u001b[0mb\u001b[0m\u001b[1;33m)\u001b[0m\u001b[1;33m\u001b[0m\u001b[1;33m\u001b[0m\u001b[0m\n\u001b[0m",
      "\u001b[1;31mTypeError\u001b[0m: unsupported operand type(s) for +: 'int' and 'str'"
     ]
    }
   ],
   "source": [
    "a = 10\n",
    "b = 'Happy'\n",
    "print(a+b)"
   ]
  },
  {
   "cell_type": "code",
   "execution_count": 120,
   "id": "cb18400c",
   "metadata": {},
   "outputs": [
    {
     "name": "stdout",
     "output_type": "stream",
     "text": [
      "10Happy\n"
     ]
    }
   ],
   "source": [
    "a =10\n",
    "b = 'Happy'\n",
    "print(str(a)+b)"
   ]
  },
  {
   "cell_type": "code",
   "execution_count": 121,
   "id": "8620737f",
   "metadata": {},
   "outputs": [
    {
     "name": "stdout",
     "output_type": "stream",
     "text": [
      "I do like cake\n",
      "10\n"
     ]
    }
   ],
   "source": [
    "# Local and Global Variable \n",
    "a = 10    # Global variable \n",
    "def myfun(a):\n",
    "    a = 'I do like cake'   # Local variable \n",
    "    print(a)\n",
    "myfun(a)\n",
    "print(a)"
   ]
  },
  {
   "cell_type": "code",
   "execution_count": 122,
   "id": "b1fc358c",
   "metadata": {},
   "outputs": [
    {
     "name": "stdout",
     "output_type": "stream",
     "text": [
      "5\n"
     ]
    },
    {
     "ename": "NameError",
     "evalue": "name 'b' is not defined",
     "output_type": "error",
     "traceback": [
      "\u001b[1;31m---------------------------------------------------------------------------\u001b[0m",
      "\u001b[1;31mNameError\u001b[0m                                 Traceback (most recent call last)",
      "\u001b[1;32m<ipython-input-122-6fd984cf378d>\u001b[0m in \u001b[0;36m<module>\u001b[1;34m\u001b[0m\n\u001b[0;32m      3\u001b[0m \u001b[0mprint\u001b[0m\u001b[1;33m(\u001b[0m\u001b[0mb\u001b[0m\u001b[1;33m)\u001b[0m\u001b[1;33m\u001b[0m\u001b[1;33m\u001b[0m\u001b[0m\n\u001b[0;32m      4\u001b[0m \u001b[1;32mdel\u001b[0m\u001b[1;33m(\u001b[0m\u001b[0mb\u001b[0m\u001b[1;33m)\u001b[0m\u001b[1;33m\u001b[0m\u001b[1;33m\u001b[0m\u001b[0m\n\u001b[1;32m----> 5\u001b[1;33m \u001b[0mprint\u001b[0m\u001b[1;33m(\u001b[0m\u001b[0mb\u001b[0m\u001b[1;33m)\u001b[0m\u001b[1;33m\u001b[0m\u001b[1;33m\u001b[0m\u001b[0m\n\u001b[0m",
      "\u001b[1;31mNameError\u001b[0m: name 'b' is not defined"
     ]
    }
   ],
   "source": [
    "# Delete a variable \n",
    "b =5\n",
    "print(b)\n",
    "del(b)\n",
    "print(b)"
   ]
  },
  {
   "cell_type": "code",
   "execution_count": 15,
   "id": "9a3d3f9f",
   "metadata": {},
   "outputs": [
    {
     "name": "stdout",
     "output_type": "stream",
     "text": [
      "10\n",
      "20\n",
      "30\n"
     ]
    }
   ],
   "source": [
    "# assign Multiple values \n",
    "x,y,z = 10,20,30\n",
    "print(x)\n",
    "print(y)\n",
    "print(z)"
   ]
  },
  {
   "cell_type": "markdown",
   "id": "f414c1ff",
   "metadata": {},
   "source": [
    "**Data type**\n",
    "**1. Tuple** "
   ]
  },
  {
   "cell_type": "markdown",
   "id": "9fc6990e",
   "metadata": {},
   "source": [
    "**Text Type:\tstr**\n",
    "\n",
    "**Numeric Types:\tint, float, complex**\n",
    "\n",
    "**Sequence Types:\tlist, tuple, range**\n",
    "\n",
    "**Mapping Type:\tdict**\n",
    "\n",
    "**Set Types:\tset, frozenset**\n",
    "\n",
    "**Boolean Type:\tbool**\n",
    "\n",
    "**Binary Types:\tbytes, bytearray, memoryview**\n",
    "\n",
    "**None Type:\tNoneType**"
   ]
  },
  {
   "cell_type": "code",
   "execution_count": 16,
   "id": "3eb29a54",
   "metadata": {},
   "outputs": [
    {
     "name": "stdout",
     "output_type": "stream",
     "text": [
      "<class 'int'>\n"
     ]
    }
   ],
   "source": [
    "x =10 \n",
    "print(type(x))"
   ]
  },
  {
   "cell_type": "code",
   "execution_count": 17,
   "id": "67823d3e",
   "metadata": {},
   "outputs": [
    {
     "name": "stdout",
     "output_type": "stream",
     "text": [
      "<class 'str'>\n"
     ]
    }
   ],
   "source": [
    "x = 'Hi'\n",
    "print(type(x))"
   ]
  },
  {
   "cell_type": "code",
   "execution_count": 18,
   "id": "5cdfabad",
   "metadata": {},
   "outputs": [
    {
     "name": "stdout",
     "output_type": "stream",
     "text": [
      "<class 'float'>\n"
     ]
    }
   ],
   "source": [
    "x = 12.5\n",
    "print(type(x))"
   ]
  },
  {
   "cell_type": "code",
   "execution_count": 123,
   "id": "865a9dac",
   "metadata": {},
   "outputs": [
    {
     "name": "stdout",
     "output_type": "stream",
     "text": [
      "1\n",
      "2\n"
     ]
    }
   ],
   "source": [
    "x = int(1.7)\n",
    "y = int(2.4)\n",
    "print(x)\n",
    "print(y)"
   ]
  },
  {
   "cell_type": "code",
   "execution_count": 124,
   "id": "87571b59",
   "metadata": {},
   "outputs": [
    {
     "name": "stdout",
     "output_type": "stream",
     "text": [
      "1.0\n",
      "2.0\n"
     ]
    }
   ],
   "source": [
    "x = float(1)\n",
    "y = float(2)\n",
    "print(x)\n",
    "print(y)"
   ]
  },
  {
   "cell_type": "code",
   "execution_count": 25,
   "id": "4137741f",
   "metadata": {},
   "outputs": [
    {
     "name": "stdout",
     "output_type": "stream",
     "text": [
      "1\n",
      "2.4\n"
     ]
    }
   ],
   "source": [
    "x = str(1)\n",
    "y = str(2.4)\n",
    "print(x)\n",
    "print(y)"
   ]
  },
  {
   "cell_type": "code",
   "execution_count": 126,
   "id": "90a7371a",
   "metadata": {},
   "outputs": [
    {
     "name": "stdout",
     "output_type": "stream",
     "text": [
      "hi how are you\n",
      "hi hooooo,\n",
      "    yiouoi, \n",
      "    nkijo \n",
      "hi gooooo,\n",
      "    yiouoi, \n",
      "    nkijo \n"
     ]
    }
   ],
   "source": [
    "# String \n",
    "a = \"hi how are you\"\n",
    "b = \"\"\"hi hooooo,\n",
    "    yiouoi, \n",
    "    nkijo \"\"\"\n",
    "c = '''hi gooooo,\n",
    "    yiouoi, \n",
    "    nkijo '''\n",
    "print(a)\n",
    "print(b)\n",
    "print(c)"
   ]
  },
  {
   "cell_type": "code",
   "execution_count": 127,
   "id": "4bce1e14",
   "metadata": {},
   "outputs": [
    {
     "name": "stdout",
     "output_type": "stream",
     "text": [
      "l\n"
     ]
    }
   ],
   "source": [
    "a = \"Hello World\"\n",
    "print(a[2])"
   ]
  },
  {
   "cell_type": "code",
   "execution_count": 31,
   "id": "e4f3acdf",
   "metadata": {},
   "outputs": [
    {
     "name": "stdout",
     "output_type": "stream",
     "text": [
      "H\n",
      "e\n",
      "l\n",
      "l\n",
      "o\n",
      "w\n",
      "o\n",
      "r\n",
      "l\n",
      "d\n"
     ]
    }
   ],
   "source": [
    "for x in \"Helloworld\": \n",
    "    print(x)\n"
   ]
  },
  {
   "cell_type": "code",
   "execution_count": 128,
   "id": "f04d32ce",
   "metadata": {},
   "outputs": [
    {
     "name": "stdout",
     "output_type": "stream",
     "text": [
      "16\n"
     ]
    }
   ],
   "source": [
    "a = \"helloworldhihikj\"\n",
    "print(len(a))"
   ]
  },
  {
   "cell_type": "code",
   "execution_count": 130,
   "id": "86c1096a",
   "metadata": {},
   "outputs": [
    {
     "name": "stdout",
     "output_type": "stream",
     "text": [
      "True\n"
     ]
    }
   ],
   "source": [
    "txt = \"best thing in life is to get something free\"\n",
    "print(\"be\" in txt)"
   ]
  },
  {
   "cell_type": "code",
   "execution_count": 134,
   "id": "179368c9",
   "metadata": {},
   "outputs": [
    {
     "name": "stdout",
     "output_type": "stream",
     "text": [
      "Yes, 'free' is present\n"
     ]
    }
   ],
   "source": [
    "txt = \"best thing in life is to get something free\"\n",
    "if \"best\" in txt: \n",
    "    print(\"Yes, 'free' is present\")"
   ]
  },
  {
   "cell_type": "code",
   "execution_count": 135,
   "id": "30631339",
   "metadata": {},
   "outputs": [
    {
     "name": "stdout",
     "output_type": "stream",
     "text": [
      "True\n"
     ]
    }
   ],
   "source": [
    "txt = \"best thing in life is to get something free\"\n",
    "print(\"expensive\" not in txt)"
   ]
  },
  {
   "cell_type": "code",
   "execution_count": 38,
   "id": "076c9990",
   "metadata": {},
   "outputs": [
    {
     "name": "stdout",
     "output_type": "stream",
     "text": [
      "Yes, 'expensive' is not present\n"
     ]
    }
   ],
   "source": [
    "txt = \"best thing in life is to get something free\"\n",
    "if \"expensive\" not in txt: \n",
    "    print(\"Yes, 'expensive' is not present\")"
   ]
  },
  {
   "cell_type": "code",
   "execution_count": 137,
   "id": "ef4c3dbc",
   "metadata": {},
   "outputs": [
    {
     "name": "stdout",
     "output_type": "stream",
     "text": [
      "llo W\n"
     ]
    }
   ],
   "source": [
    "# Slice the string\n",
    "b = \"Hello World!\"\n",
    "print(b[2:7])\n"
   ]
  },
  {
   "cell_type": "code",
   "execution_count": 42,
   "id": "776350cb",
   "metadata": {},
   "outputs": [
    {
     "name": "stdout",
     "output_type": "stream",
     "text": [
      "Hello\n"
     ]
    }
   ],
   "source": [
    "# slice from the start\n",
    "b = \"Hello World!\"\n",
    "print(b[:5])"
   ]
  },
  {
   "cell_type": "code",
   "execution_count": 43,
   "id": "d0435dfc",
   "metadata": {},
   "outputs": [
    {
     "name": "stdout",
     "output_type": "stream",
     "text": [
      "llo World!\n"
     ]
    }
   ],
   "source": [
    "# slice till the end\n",
    "b = \"Hello World!\"\n",
    "print(b[2:])"
   ]
  },
  {
   "cell_type": "code",
   "execution_count": 44,
   "id": "c16184fa",
   "metadata": {},
   "outputs": [
    {
     "name": "stdout",
     "output_type": "stream",
     "text": [
      "orl\n"
     ]
    }
   ],
   "source": [
    "# slice till the end\n",
    "b = \"Hello World!\"\n",
    "print(b[-5:-2])"
   ]
  },
  {
   "cell_type": "code",
   "execution_count": 48,
   "id": "446674e4",
   "metadata": {},
   "outputs": [
    {
     "name": "stdout",
     "output_type": "stream",
     "text": [
      " hello, world!\n",
      " HELLO, WORLD!\n",
      "Hello, World!\n",
      " Jello, World!\n",
      "[' Hello', ' World!']\n"
     ]
    }
   ],
   "source": [
    "a = \" Hello, World!\"\n",
    "print(a.lower())\n",
    "print(a.upper())\n",
    "print(a.strip())\n",
    "print(a.replace('H','J'))\n",
    "print(a.split(\",\"))"
   ]
  },
  {
   "cell_type": "code",
   "execution_count": 54,
   "id": "3b3a42cf",
   "metadata": {},
   "outputs": [
    {
     "name": "stdout",
     "output_type": "stream",
     "text": [
      "HelloWorld\n",
      "Hello World\n"
     ]
    }
   ],
   "source": [
    "# string Concatenation \n",
    "a = 'Hello'\n",
    "b = 'World'\n",
    "print(a+b)\n",
    "print(a + \" \"+b)"
   ]
  },
  {
   "cell_type": "code",
   "execution_count": null,
   "id": "48dcbedd",
   "metadata": {},
   "outputs": [],
   "source": [
    "# How to concatenate the strings\n",
    "- '+'\n",
    "- str.join()\n",
    "- join()"
   ]
  },
  {
   "cell_type": "code",
   "execution_count": 9,
   "id": "56f0e581",
   "metadata": {},
   "outputs": [
    {
     "name": "stdout",
     "output_type": "stream",
     "text": [
      "red;blue;Yellow\n",
      "['red', 'blue', 'Yellow']\n",
      "highwaytop\n"
     ]
    }
   ],
   "source": [
    "colors = ';'.join([\"red\",\"blue\",\"Yellow\"])\n",
    "print(colors)\n",
    "print(colors.split(';'))\n",
    "print(\"\".join(['high','way','top']))\n"
   ]
  },
  {
   "cell_type": "markdown",
   "id": "a527d973",
   "metadata": {},
   "source": [
    "**DAY 2**  "
   ]
  },
  {
   "cell_type": "code",
   "execution_count": 26,
   "id": "aa6ca574",
   "metadata": {},
   "outputs": [
    {
     "name": "stdout",
     "output_type": "stream",
     "text": [
      "My name is Tanu, and I am a Data Scientist\n"
     ]
    }
   ],
   "source": [
    "profession = \"Data Scientist\"\n",
    "txt =  \"My name is Tanu, and I am a \"+profession\n",
    "print(txt)"
   ]
  },
  {
   "cell_type": "code",
   "execution_count": 27,
   "id": "6d9d5da4",
   "metadata": {},
   "outputs": [
    {
     "name": "stdout",
     "output_type": "stream",
     "text": [
      "30\n"
     ]
    }
   ],
   "source": [
    "a = 10\n",
    "b = 20\n",
    "print(a+b)"
   ]
  },
  {
   "cell_type": "code",
   "execution_count": 59,
   "id": "bec4e5e5",
   "metadata": {
    "collapsed": true
   },
   "outputs": [
    {
     "name": "stdout",
     "output_type": "stream",
     "text": [
      "I want to order 1 pizza and 2 chips of worth 20 ruppes.\n"
     ]
    }
   ],
   "source": [
    "n= 1\n",
    "ch = 2 \n",
    "rp = 20\n",
    "myorder = \"I want to order {} pizza and {} chips of worth {} ruppes.\"\n",
    "print(myorder.format(n,ch,rp))"
   ]
  },
  {
   "cell_type": "code",
   "execution_count": 64,
   "id": "cbdd375a",
   "metadata": {
    "collapsed": true
   },
   "outputs": [
    {
     "name": "stdout",
     "output_type": "stream",
     "text": [
      "hello world is \"great\" to start with \n"
     ]
    }
   ],
   "source": [
    "txt = \"hello world is \\\"great\\\" to start with \"\n",
    "print(txt)"
   ]
  },
  {
   "cell_type": "markdown",
   "id": "a947ff73",
   "metadata": {},
   "source": [
    "**Escape Characters**\n",
    "\n",
    "**\\'\tSingle Quote\t**\n",
    "\n",
    "**\\\\\tBackslash\t**\n",
    "\n",
    "**\\n\tNew Line\t**\n",
    "\n",
    "**\\r\tCarriage Return\t**\n",
    "\n",
    "**\\t\tTab\t**\n",
    "\n",
    "**\\b\tBackspace\t**\n",
    "\n",
    "**\\f\tForm Feed\t**\n",
    "\n",
    "**\\ooo\tOctal value\t**\n",
    "\n",
    "**\\xhh\tHex value**"
   ]
  },
  {
   "cell_type": "markdown",
   "id": "84354eba",
   "metadata": {},
   "source": [
    "***String Method***"
   ]
  },
  {
   "cell_type": "markdown",
   "id": "9e27fc6a",
   "metadata": {},
   "source": [
    "**Method\t::        Description**\n",
    "\n",
    "capitalize()\tConverts the first character to upper case\n",
    "\n",
    "casefold()\tConverts string into lower case\n",
    "\n",
    "center()\tReturns a centered string\n",
    "\n",
    "count()\tReturns the number of times a specified value occurs in a string\n",
    "\n",
    "encode()\tReturns an encoded version of the string\n",
    "\n",
    "endswith()\tReturns true if the string ends with the specified value\n",
    "\n",
    "expandtabs()\tSets the tab size of the string\n",
    "\n",
    "find()\tSearches the string for a specified value and returns the position of where it was found\n",
    "\n",
    "format()\tFormats specified values in a string\n",
    "\n",
    "format_map()\tFormats specified values in a string\n",
    "\n",
    "index()\tSearches the string for a specified value and returns the position of where it was found\n",
    "\n",
    "isalnum()\tReturns True if all characters in the string are alphanumeric\n",
    "\n",
    "isalpha()\tReturns True if all characters in the string are in the alphabet\n",
    "\n",
    "isdecimal()\tReturns True if all characters in the string are decimals\n",
    "\n",
    "isdigit()\tReturns True if all characters in the string are digits\n",
    "\n",
    "isidentifier()\tReturns True if the string is an identifier\n",
    "\n",
    "islower()\tReturns True if all characters in the string are lower case\n",
    "\n",
    "isnumeric()\tReturns True if all characters in the string are numeric\n",
    "\n",
    "isprintable()\tReturns True if all characters in the string are printable\n",
    "\n",
    "isspace()\tReturns True if all characters in the string are whitespaces\n",
    "\n",
    "istitle()\tReturns True if the string follows the rules of a title\n",
    "\n",
    "isupper()\tReturns True if all characters in the string are upper case\n",
    "\n",
    "join()\tJoins the elements of an iterable to the end of the string\n",
    "\n",
    "ljust()\tReturns a left justified version of the string\n",
    "\n",
    "lower()\tConverts a string into lower case\n",
    "\n",
    "lstrip()\tReturns a left trim version of the string\n",
    "\n",
    "maketrans()\tReturns a translation table to be used in translations\n",
    "\n",
    "partition()\tReturns a tuple where the string is parted into three parts\n",
    "\n",
    "replace()\tReturns a string where a specified value is replaced with a specified value\n",
    "\n",
    "rfind()\tSearches the string for a specified value and returns the last position of where it was found\n",
    "\n",
    "rindex()\tSearches the string for a specified value and returns the last position of where it was found\n",
    "\n",
    "rjust()\tReturns a right justified version of the string\n",
    "\n",
    "rpartition()\tReturns a tuple where the string is parted into three parts\n",
    "\n",
    "rsplit()\tSplits the string at the specified separator, and returns a list\n",
    "\n",
    "rstrip()\tReturns a right trim version of the string\n",
    "\n",
    "split()\tSplits the string at the specified separator, and returns a list\n",
    "\n",
    "splitlines()\tSplits the string at line breaks and returns a list\n",
    "\n",
    "startswith()\tReturns true if the string starts with the specified value\n",
    "\n",
    "strip()\tReturns a trimmed version of the string\n",
    "\n",
    "swapcase()\tSwaps cases, lower case becomes upper case and vice versa\n",
    "\n",
    "title()\tConverts the first character of each word to upper case\n",
    "\n",
    "translate()\tReturns a translated string\n",
    "\n",
    "upper()\tConverts a string into upper case\n",
    "\n",
    "zfill()\tFills the string with a specified number of 0 values at the beginning"
   ]
  },
  {
   "cell_type": "markdown",
   "id": "ac24f637",
   "metadata": {},
   "source": [
    "***Boolean value returns True or False***"
   ]
  },
  {
   "cell_type": "code",
   "execution_count": 66,
   "id": "670907e5",
   "metadata": {},
   "outputs": [
    {
     "name": "stdout",
     "output_type": "stream",
     "text": [
      "True\n",
      "False\n"
     ]
    }
   ],
   "source": [
    "print(10>9)\n",
    "print(10<9)"
   ]
  },
  {
   "cell_type": "code",
   "execution_count": 69,
   "id": "e3cc778f",
   "metadata": {},
   "outputs": [
    {
     "name": "stdout",
     "output_type": "stream",
     "text": [
      "a is greater than b\n"
     ]
    }
   ],
   "source": [
    "a= 100\n",
    "b = 50 \n",
    "if a > b : \n",
    "    print(\"a is greater than b\")\n",
    "else: \n",
    "    print(\"b is greater than a\")\n"
   ]
  },
  {
   "cell_type": "code",
   "execution_count": 71,
   "id": "f656d417",
   "metadata": {},
   "outputs": [
    {
     "name": "stdout",
     "output_type": "stream",
     "text": [
      "True\n",
      "True\n"
     ]
    }
   ],
   "source": [
    "print(bool(\"hello\"))\n",
    "print(bool(15))"
   ]
  },
  {
   "cell_type": "markdown",
   "id": "41a1a7a4",
   "metadata": {},
   "source": [
    "***Operators***"
   ]
  },
  {
   "cell_type": "markdown",
   "id": "bbc27c8a",
   "metadata": {},
   "source": [
    "- Arithmetic operators\n",
    "- Assignment operators\n",
    "- Comparison operators\n",
    "- Logical operators\n",
    "- Identity operators\n",
    "- Membership operators\n",
    "- Bitwise operators"
   ]
  },
  {
   "cell_type": "markdown",
   "id": "53dc07d3",
   "metadata": {},
   "source": [
    "**Python Arithmetic Operator**\n",
    "- Operator\tName\tExample\t\n",
    "- \"+\"\tAddition\tx + y\t\n",
    "- \"-\"\tSubtraction\tx - y\t\n",
    "- \"*\"\tMultiplication\tx * y\t\n",
    "- \"/\"\tDivision\tx / y\t\n",
    "- \"%\"\tModulus\tx % y\t\n",
    "- \"**\"\tExponentiation\tx ** y\t\n",
    "- \"//\"\tFloor division\tx // y"
   ]
  },
  {
   "cell_type": "markdown",
   "id": "ae1fee8d",
   "metadata": {},
   "source": [
    "**1. LIST**"
   ]
  },
  {
   "cell_type": "code",
   "execution_count": 73,
   "id": "3fe910d2",
   "metadata": {},
   "outputs": [
    {
     "name": "stdout",
     "output_type": "stream",
     "text": [
      "['stats', 'maths', 'programming']\n"
     ]
    }
   ],
   "source": [
    "mylist = ['stats', 'maths','programming']\n",
    "print(mylist)"
   ]
  },
  {
   "cell_type": "code",
   "execution_count": 29,
   "id": "e44a6625",
   "metadata": {},
   "outputs": [],
   "source": [
    "lst = [1,2,3,'stas']"
   ]
  },
  {
   "cell_type": "markdown",
   "id": "79f77785",
   "metadata": {},
   "source": [
    "**List items have following property**\n",
    " - ordered\n",
    " - changeable\n",
    " - allow duplicate values."
   ]
  },
  {
   "cell_type": "code",
   "execution_count": 76,
   "id": "a935648e",
   "metadata": {},
   "outputs": [],
   "source": [
    "lst1 = ['a','b','c']\n",
    "lst2 = [1,2,3]\n",
    "lst3 = [True, False, True]"
   ]
  },
  {
   "cell_type": "code",
   "execution_count": 75,
   "id": "0f20f2f1",
   "metadata": {},
   "outputs": [],
   "source": [
    "lst4 = ['a',1,True]"
   ]
  },
  {
   "cell_type": "code",
   "execution_count": 78,
   "id": "47f31e48",
   "metadata": {},
   "outputs": [
    {
     "name": "stdout",
     "output_type": "stream",
     "text": [
      "<class 'list'>\n"
     ]
    }
   ],
   "source": [
    "print(type(lst2))"
   ]
  },
  {
   "cell_type": "code",
   "execution_count": 80,
   "id": "d399a9eb",
   "metadata": {},
   "outputs": [],
   "source": [
    "lst5 = list((1,2,3,'abc'))"
   ]
  },
  {
   "cell_type": "markdown",
   "id": "67805390",
   "metadata": {},
   "source": [
    "Python Data Types\n",
    "- List is a collection which is ordered and changeable. Allows duplicate members.\n",
    "- Tuple is a collection which is ordered and unchangeable. Allows duplicate members.\n",
    "- Set is a collection which is unordered, unchangeable*, and unindexed. No duplicate members.\n",
    "- Dictionary is a collection which is ordered** and changeable. No duplicate members."
   ]
  },
  {
   "cell_type": "code",
   "execution_count": 81,
   "id": "15eea6b7",
   "metadata": {},
   "outputs": [],
   "source": [
    "lst =[1,2,3,4,5,6,7,8,9,10]"
   ]
  },
  {
   "cell_type": "code",
   "execution_count": 82,
   "id": "5db0e6d3",
   "metadata": {},
   "outputs": [
    {
     "name": "stdout",
     "output_type": "stream",
     "text": [
      "[3, 4, 5]\n"
     ]
    }
   ],
   "source": [
    "print(lst[2:5])"
   ]
  },
  {
   "cell_type": "code",
   "execution_count": null,
   "id": "6e1baf50",
   "metadata": {},
   "outputs": [],
   "source": [
    "fetch 2,3,4\n",
    "fetch 5,6,7\n",
    "fetch 8,9,10"
   ]
  },
  {
   "cell_type": "code",
   "execution_count": null,
   "id": "2ad2efbf",
   "metadata": {},
   "outputs": [],
   "source": []
  },
  {
   "cell_type": "code",
   "execution_count": 31,
   "id": "35227ad6",
   "metadata": {},
   "outputs": [
    {
     "name": "stdout",
     "output_type": "stream",
     "text": [
      "badminton\n",
      "cricket\n",
      "basketball\n",
      "golf\n",
      "pool\n",
      "volleyball\n"
     ]
    }
   ],
   "source": [
    "game = ['badminton','cricket', 'basketball','golf', 'pool','volleyball']\n",
    "for i in game: \n",
    "    print(i)"
   ]
  },
  {
   "cell_type": "code",
   "execution_count": 85,
   "id": "a2ccc88d",
   "metadata": {},
   "outputs": [
    {
     "name": "stdout",
     "output_type": "stream",
     "text": [
      "['badminton', 'xxx', 'basketball', 'golf', 'pool', 'volleyball']\n"
     ]
    }
   ],
   "source": [
    "game[1] = 'xxx'\n",
    "print(game)"
   ]
  },
  {
   "cell_type": "code",
   "execution_count": 86,
   "id": "f2784d54",
   "metadata": {},
   "outputs": [
    {
     "name": "stdout",
     "output_type": "stream",
     "text": [
      "['badminton', 'yyy', 'xxx', 'basketball', 'golf', 'pool', 'volleyball']\n"
     ]
    }
   ],
   "source": [
    "game.insert(1, 'yyy')\n",
    "print(game)"
   ]
  },
  {
   "cell_type": "code",
   "execution_count": 32,
   "id": "a50dc1c9",
   "metadata": {},
   "outputs": [
    {
     "name": "stdout",
     "output_type": "stream",
     "text": [
      "['badminton', 'cricket', 'basketball', 'golf', 'pool', 'volleyball', 'zze']\n"
     ]
    }
   ],
   "source": [
    "game.append('zze')\n",
    "print(game)"
   ]
  },
  {
   "cell_type": "code",
   "execution_count": 37,
   "id": "85912f79",
   "metadata": {},
   "outputs": [
    {
     "name": "stdout",
     "output_type": "stream",
     "text": [
      "['badminton', 'cricket', 'basketball', 'golf', 'pool', 'volleyball', 'zze', 1, 2, 1, 2, 3]\n"
     ]
    }
   ],
   "source": [
    "lst =[1,2,3]\n",
    "game.extend(lst)\n",
    "print(game)"
   ]
  },
  {
   "cell_type": "code",
   "execution_count": 39,
   "id": "b2ff2ef8",
   "metadata": {},
   "outputs": [
    {
     "name": "stdout",
     "output_type": "stream",
     "text": [
      "['badminton', 'cricket', 'basketball', 'golf', 'pool', 'volleyball', 'zze', 2, 1, 2]\n"
     ]
    }
   ],
   "source": [
    "game.remove(1)\n",
    "print(game)"
   ]
  },
  {
   "cell_type": "code",
   "execution_count": 93,
   "id": "ef939e64",
   "metadata": {},
   "outputs": [
    {
     "name": "stdout",
     "output_type": "stream",
     "text": [
      "['badminton', 'xxx', 'basketball', 'golf', 'pool', 'volleyball', 'zzz', 'zzz', 1, 2, 1, 2]\n"
     ]
    }
   ],
   "source": [
    "game.pop(1)\n",
    "print(game)"
   ]
  },
  {
   "cell_type": "code",
   "execution_count": 94,
   "id": "7792ce54",
   "metadata": {},
   "outputs": [],
   "source": [
    "del game[1]\n"
   ]
  },
  {
   "cell_type": "code",
   "execution_count": 95,
   "id": "8f7ef1bd",
   "metadata": {},
   "outputs": [
    {
     "name": "stdout",
     "output_type": "stream",
     "text": [
      "['badminton', 'basketball', 'golf', 'pool', 'volleyball', 'zzz', 'zzz', 1, 2, 1, 2]\n"
     ]
    }
   ],
   "source": [
    "print(game)"
   ]
  },
  {
   "cell_type": "code",
   "execution_count": 96,
   "id": "bb08ad81",
   "metadata": {},
   "outputs": [
    {
     "name": "stdout",
     "output_type": "stream",
     "text": [
      "[]\n"
     ]
    }
   ],
   "source": [
    "game.clear()\n",
    "print(game)"
   ]
  },
  {
   "cell_type": "code",
   "execution_count": 99,
   "id": "700e05c5",
   "metadata": {},
   "outputs": [
    {
     "name": "stdout",
     "output_type": "stream",
     "text": [
      "badminton\n",
      "cricket\n",
      "basketball\n",
      "golf\n",
      "pool\n",
      "volleyball\n"
     ]
    }
   ],
   "source": [
    "game = ['badminton','cricket', 'basketball','golf', 'pool','volleyball']\n",
    "for i in range(len(game)): \n",
    "    print(game[i])"
   ]
  },
  {
   "cell_type": "code",
   "execution_count": 101,
   "id": "435701b5",
   "metadata": {},
   "outputs": [
    {
     "name": "stdout",
     "output_type": "stream",
     "text": [
      "badminton\n",
      "cricket\n",
      "basketball\n",
      "golf\n",
      "pool\n",
      "volleyball\n"
     ]
    }
   ],
   "source": [
    "i=0\n",
    "while i <len(game):\n",
    "    print(game[i])\n",
    "    i = i+1\n"
   ]
  },
  {
   "cell_type": "markdown",
   "id": "e17a6e12",
   "metadata": {},
   "source": [
    "**List Comprehension**"
   ]
  },
  {
   "cell_type": "code",
   "execution_count": 102,
   "id": "ce2a26e6",
   "metadata": {},
   "outputs": [
    {
     "name": "stdout",
     "output_type": "stream",
     "text": [
      "badminton\n",
      "cricket\n",
      "basketball\n",
      "golf\n",
      "pool\n",
      "volleyball\n"
     ]
    },
    {
     "data": {
      "text/plain": [
       "[None, None, None, None, None, None]"
      ]
     },
     "execution_count": 102,
     "metadata": {},
     "output_type": "execute_result"
    }
   ],
   "source": [
    "[print(x) for x in game] \n",
    "for x in game: \n",
    "    print(x)"
   ]
  },
  {
   "cell_type": "code",
   "execution_count": 103,
   "id": "556b9a9d",
   "metadata": {},
   "outputs": [
    {
     "name": "stdout",
     "output_type": "stream",
     "text": [
      "['apple', 'banana', 'mango']\n"
     ]
    }
   ],
   "source": [
    "fruits = [\"apple\", \"banana\", \"cherry\", \"kiwi\", \"mango\"]\n",
    "newlist = []\n",
    "\n",
    "for x in fruits:\n",
    "  if \"a\" in x:\n",
    "    newlist.append(x)\n",
    "\n",
    "print(newlist)"
   ]
  },
  {
   "cell_type": "code",
   "execution_count": 104,
   "id": "0d77f5e3",
   "metadata": {},
   "outputs": [
    {
     "name": "stdout",
     "output_type": "stream",
     "text": [
      "['apple', 'banana', 'mango']\n"
     ]
    }
   ],
   "source": [
    "fruits = [\"apple\", \"banana\", \"cherry\", \"kiwi\", \"mango\"]\n",
    "\n",
    "newlist = [x for x in fruits if \"a\" in x]\n",
    "\n",
    "print(newlist)"
   ]
  },
  {
   "cell_type": "code",
   "execution_count": 106,
   "id": "f1d5e46d",
   "metadata": {},
   "outputs": [
    {
     "name": "stdout",
     "output_type": "stream",
     "text": [
      "['banana', 'cherry', 'kiwi', 'mango']\n"
     ]
    }
   ],
   "source": [
    "newlist = [x for x in fruits if x != \"apple\"]\n",
    "print(newlist)"
   ]
  },
  {
   "cell_type": "code",
   "execution_count": 109,
   "id": "238af130",
   "metadata": {},
   "outputs": [
    {
     "name": "stdout",
     "output_type": "stream",
     "text": [
      "['apple', 'banana', 'cherry', 'kiwi', 'mango']\n"
     ]
    }
   ],
   "source": [
    "newlist = [x for x in fruits]\n",
    "print(newlist)"
   ]
  },
  {
   "cell_type": "code",
   "execution_count": 107,
   "id": "b2e7c97d",
   "metadata": {},
   "outputs": [
    {
     "name": "stdout",
     "output_type": "stream",
     "text": [
      "[0, 1, 2, 3, 4, 5, 6, 7, 8, 9]\n"
     ]
    }
   ],
   "source": [
    "newlist = [x for x in range(10)]\n",
    "print(newlist)"
   ]
  },
  {
   "cell_type": "code",
   "execution_count": 138,
   "id": "6c95300f",
   "metadata": {},
   "outputs": [
    {
     "name": "stdout",
     "output_type": "stream",
     "text": [
      "[0, 1, 2, 3, 4]\n"
     ]
    }
   ],
   "source": [
    "#Accept only numbers that are less than 5\n",
    "newlist = [x for x in range(10) if x < 5]\n",
    "print(newlist)"
   ]
  },
  {
   "cell_type": "code",
   "execution_count": 140,
   "id": "f0bf3270",
   "metadata": {},
   "outputs": [
    {
     "name": "stdout",
     "output_type": "stream",
     "text": [
      "['APPLE', 'BANANA', 'CHERRY', 'KIWI', 'MANGO']\n"
     ]
    }
   ],
   "source": [
    "# Change all the elements to the upper case sequence\n",
    "newlist = [x.upper() for x in fruits]\n",
    "print(newlist)"
   ]
  },
  {
   "cell_type": "code",
   "execution_count": 142,
   "id": "0d0f02d5",
   "metadata": {},
   "outputs": [
    {
     "name": "stdout",
     "output_type": "stream",
     "text": [
      "['tanu', 'tanu', 'tanu', 'tanu', 'tanu']\n"
     ]
    }
   ],
   "source": [
    "# Replace all the name in the list with your name i.e. 'tanu' \n",
    "newlist = ['tanu' for x in fruits]\n",
    "print(newlist)"
   ]
  },
  {
   "cell_type": "code",
   "execution_count": 143,
   "id": "431ded99",
   "metadata": {},
   "outputs": [
    {
     "name": "stdout",
     "output_type": "stream",
     "text": [
      "['apple', 'orange', 'cherry', 'kiwi', 'mango']\n"
     ]
    }
   ],
   "source": [
    "fruits = [\"apple\", \"banana\", \"cherry\", \"kiwi\", \"mango\"]\n",
    "newlist = [x if x != \"banana\" else \"orange\" for x in fruits]\n",
    "print(newlist)"
   ]
  },
  {
   "cell_type": "code",
   "execution_count": 144,
   "id": "21f16fc0",
   "metadata": {},
   "outputs": [
    {
     "name": "stdout",
     "output_type": "stream",
     "text": [
      "[8, 15, 40, 102, 223]\n"
     ]
    }
   ],
   "source": [
    "# Sort List Ascending\n",
    "thislist = [102, 40, 15, 8, 223]\n",
    "thislist.sort()\n",
    "print(thislist)"
   ]
  },
  {
   "cell_type": "code",
   "execution_count": 145,
   "id": "74dfda8b",
   "metadata": {},
   "outputs": [
    {
     "name": "stdout",
     "output_type": "stream",
     "text": [
      "[223, 102, 40, 15, 8]\n"
     ]
    }
   ],
   "source": [
    "# Sort in descending\n",
    "thislist = [102, 40, 15, 8, 223]\n",
    "thislist.sort(reverse = True)\n",
    "print(thislist)"
   ]
  },
  {
   "cell_type": "code",
   "execution_count": 146,
   "id": "231ae0fb",
   "metadata": {},
   "outputs": [
    {
     "name": "stdout",
     "output_type": "stream",
     "text": [
      "['af', 'bd', 'ce']\n"
     ]
    }
   ],
   "source": [
    "# Copy a List \n",
    "# Method 1\n",
    "thislist = [\"af\", \"bd\", \"ce\"]\n",
    "mylist = thislist.copy()\n",
    "print(mylist)"
   ]
  },
  {
   "cell_type": "code",
   "execution_count": 147,
   "id": "05813d52",
   "metadata": {},
   "outputs": [
    {
     "name": "stdout",
     "output_type": "stream",
     "text": [
      "['af', 'bd', 'ce']\n"
     ]
    }
   ],
   "source": [
    "# Copy a List \n",
    "# Method 2\n",
    "thislist = [\"af\", \"bd\", \"ce\"]\n",
    "mylist = list(thislist)\n",
    "print(mylist)"
   ]
  },
  {
   "cell_type": "code",
   "execution_count": 148,
   "id": "f0fb4fb3",
   "metadata": {},
   "outputs": [
    {
     "name": "stdout",
     "output_type": "stream",
     "text": [
      "['a', 'b', 'c', 1, 2, 3]\n"
     ]
    }
   ],
   "source": [
    "# Join the list\n",
    "# Method 1\n",
    "list1 = [\"a\", \"b\", \"c\"]\n",
    "list2 = [1, 2, 3]\n",
    "\n",
    "for x in list2:\n",
    "    list1.append(x)\n",
    "\n",
    "print(list1)"
   ]
  },
  {
   "cell_type": "code",
   "execution_count": 149,
   "id": "2abdd812",
   "metadata": {},
   "outputs": [
    {
     "name": "stdout",
     "output_type": "stream",
     "text": [
      "['a', 'b', 'c', 1, 2, 3]\n"
     ]
    }
   ],
   "source": [
    "# Join the list\n",
    "# Method 2\n",
    "list1 = [\"a\", \"b\", \"c\"]\n",
    "list2 = [1, 2, 3]\n",
    "\n",
    "list3 = list1 + list2\n",
    "print(list3)"
   ]
  },
  {
   "cell_type": "code",
   "execution_count": 150,
   "id": "e3062fc9",
   "metadata": {},
   "outputs": [
    {
     "name": "stdout",
     "output_type": "stream",
     "text": [
      "['a', 'b', 'c', 1, 2, 3]\n"
     ]
    }
   ],
   "source": [
    "# Join the list\n",
    "# Method 3\n",
    "list1 = [\"a\", \"b\" , \"c\"]\n",
    "list2 = [1, 2, 3]\n",
    "\n",
    "list1.extend(list2)\n",
    "print(list1)"
   ]
  },
  {
   "cell_type": "markdown",
   "id": "1a1fe483",
   "metadata": {},
   "source": [
    "**Assignment1 : check for other methods of list and work on them**"
   ]
  },
  {
   "cell_type": "markdown",
   "id": "afe09936",
   "metadata": {},
   "source": [
    "**2. A tuple is a collection which is ordered and unchangeable and allow duplicate value**\n",
    "\n",
    "**Tuples are written with round brackets.**"
   ]
  },
  {
   "cell_type": "code",
   "execution_count": 152,
   "id": "53b4c933",
   "metadata": {},
   "outputs": [
    {
     "name": "stdout",
     "output_type": "stream",
     "text": [
      "('a', 'b', 'c')\n"
     ]
    }
   ],
   "source": [
    "tup = (\"a\", \"b\", \"c\")\n",
    "print(tup)"
   ]
  },
  {
   "cell_type": "code",
   "execution_count": 154,
   "id": "5223199b",
   "metadata": {},
   "outputs": [
    {
     "name": "stdout",
     "output_type": "stream",
     "text": [
      "<class 'tuple'>\n",
      "<class 'str'>\n"
     ]
    }
   ],
   "source": [
    "thistuple = (\"a\",)\n",
    "print(type(thistuple))\n",
    "\n",
    "#NOT a tuple\n",
    "thistuple = (\"a\")\n",
    "print(type(thistuple))"
   ]
  },
  {
   "cell_type": "code",
   "execution_count": 156,
   "id": "8eac75ee",
   "metadata": {},
   "outputs": [
    {
     "name": "stdout",
     "output_type": "stream",
     "text": [
      "('ac', 14, False, 67, 'pass')\n"
     ]
    }
   ],
   "source": [
    "tup1 = (\"ac\", 14, False, 67, \"pass\")\n",
    "print(tup1)"
   ]
  },
  {
   "cell_type": "code",
   "execution_count": 157,
   "id": "2f9da736",
   "metadata": {},
   "outputs": [
    {
     "name": "stdout",
     "output_type": "stream",
     "text": [
      "('a', 'b', 'c')\n"
     ]
    }
   ],
   "source": [
    "# Another way to create a tuple\n",
    "tup1 = tuple((\"a\", \"b\", \"c\")) # note the double round-brackets\n",
    "print(tup1)"
   ]
  },
  {
   "cell_type": "code",
   "execution_count": null,
   "id": "7f8414f3",
   "metadata": {},
   "outputs": [],
   "source": [
    "# accessing any element in the tuple \n",
    "tup1 = (\"a\", \"b\", \"c\", \"o\", \"k\", \"m\", \"g\")\n",
    "print(tup1[2:5])\n",
    "print(tup1[1:])\n",
    "print(tup1[4:])"
   ]
  },
  {
   "cell_type": "code",
   "execution_count": 158,
   "id": "6ca910df",
   "metadata": {},
   "outputs": [
    {
     "name": "stdout",
     "output_type": "stream",
     "text": [
      "Yes, 'a' is in the tuple\n"
     ]
    }
   ],
   "source": [
    "tup1 = (\"a\", \"b\", \"c\")\n",
    "if \"a\" in tup1:\n",
    "  print(\"Yes, 'a' is in the tuple\")"
   ]
  },
  {
   "cell_type": "code",
   "execution_count": null,
   "id": "43f081ab",
   "metadata": {},
   "outputs": [],
   "source": [
    "# Update the tuple \n",
    "# Tuples are immutable or Unchangeable\n",
    "x = (\"a\", \"b\", \"c\")\n",
    "y = list(x)\n",
    "y[1] = \"k\"\n",
    "x = tuple(y)\n",
    "\n",
    "print(x)"
   ]
  },
  {
   "cell_type": "code",
   "execution_count": 160,
   "id": "bcb251cf",
   "metadata": {},
   "outputs": [
    {
     "name": "stdout",
     "output_type": "stream",
     "text": [
      "('a', 'b', 'c', 'g')\n"
     ]
    }
   ],
   "source": [
    "# Add an element to the tuple since tuple is immutable thus we cann't use append() in it \n",
    "tup1 = (\"a\", \"b\", \"c\")\n",
    "y = list(tup1)\n",
    "y.append(\"g\")\n",
    "tup1= tuple(y)\n",
    "print(tup1)"
   ]
  },
  {
   "cell_type": "code",
   "execution_count": 161,
   "id": "ecde0a19",
   "metadata": {},
   "outputs": [
    {
     "name": "stdout",
     "output_type": "stream",
     "text": [
      "('a', 'b', 'c', 'ge')\n"
     ]
    }
   ],
   "source": [
    "# Add a tuple to thee tuple \n",
    "tup1 = (\"a\", \"b\", \"c\")\n",
    "y = (\"ge\",)\n",
    "tup1 += y\n",
    "\n",
    "print(tup1)"
   ]
  },
  {
   "cell_type": "code",
   "execution_count": 164,
   "id": "ac4cbf1f",
   "metadata": {},
   "outputs": [
    {
     "name": "stdout",
     "output_type": "stream",
     "text": [
      "('b', 'c')\n"
     ]
    }
   ],
   "source": [
    "# Removing element from the tuple \n",
    "tup1 = (\"a\", \"b\", \"c\")\n",
    "y = list(tup1)\n",
    "y.remove(\"a\")\n",
    "tup1 = tuple(y)\n",
    "print(tup1)"
   ]
  },
  {
   "cell_type": "code",
   "execution_count": 165,
   "id": "e38c016e",
   "metadata": {},
   "outputs": [
    {
     "ename": "NameError",
     "evalue": "name 'tup1' is not defined",
     "output_type": "error",
     "traceback": [
      "\u001b[1;31m---------------------------------------------------------------------------\u001b[0m",
      "\u001b[1;31mNameError\u001b[0m                                 Traceback (most recent call last)",
      "\u001b[1;32m<ipython-input-165-29d7f7887839>\u001b[0m in \u001b[0;36m<module>\u001b[1;34m\u001b[0m\n\u001b[0;32m      2\u001b[0m \u001b[0mtup1\u001b[0m \u001b[1;33m=\u001b[0m \u001b[1;33m(\u001b[0m\u001b[1;34m\"a\"\u001b[0m\u001b[1;33m,\u001b[0m \u001b[1;34m\"b\"\u001b[0m\u001b[1;33m,\u001b[0m \u001b[1;34m\"c\"\u001b[0m\u001b[1;33m)\u001b[0m\u001b[1;33m\u001b[0m\u001b[1;33m\u001b[0m\u001b[0m\n\u001b[0;32m      3\u001b[0m \u001b[1;32mdel\u001b[0m \u001b[0mtup1\u001b[0m\u001b[1;33m\u001b[0m\u001b[1;33m\u001b[0m\u001b[0m\n\u001b[1;32m----> 4\u001b[1;33m \u001b[0mprint\u001b[0m\u001b[1;33m(\u001b[0m\u001b[0mtup1\u001b[0m\u001b[1;33m)\u001b[0m\u001b[1;33m\u001b[0m\u001b[1;33m\u001b[0m\u001b[0m\n\u001b[0m",
      "\u001b[1;31mNameError\u001b[0m: name 'tup1' is not defined"
     ]
    }
   ],
   "source": [
    "# Delete completly a Tuple\n",
    "tup1 = (\"a\", \"b\", \"c\")\n",
    "del tup1\n",
    "print(tup1)"
   ]
  },
  {
   "cell_type": "markdown",
   "id": "86b37f93",
   "metadata": {},
   "source": [
    "**Packing- assign values to the tuple**\n",
    "\n",
    "**Unpacking - assign value back to the variables from the tuple** "
   ]
  },
  {
   "cell_type": "code",
   "execution_count": 167,
   "id": "8d5a5c14",
   "metadata": {},
   "outputs": [
    {
     "name": "stdout",
     "output_type": "stream",
     "text": [
      "a\n",
      "b\n",
      "c\n"
     ]
    }
   ],
   "source": [
    "tup = ('a','b','c') # packing\n",
    "(s,q,r) = tup  # Unpacking\n",
    "\n",
    "print(s)\n",
    "print(q)\n",
    "print(r)"
   ]
  },
  {
   "cell_type": "code",
   "execution_count": 168,
   "id": "35a33488",
   "metadata": {},
   "outputs": [
    {
     "name": "stdout",
     "output_type": "stream",
     "text": [
      "a\n",
      "['m', 'p', 'i']\n",
      "c\n"
     ]
    }
   ],
   "source": [
    "# If the number of values is less that the values in tuple add * \n",
    "f = (\"a\", \"m\", \"p\", \"i\", \"c\")\n",
    "\n",
    "(g, *t, r) = f\n",
    "\n",
    "print(g)\n",
    "print(t)\n",
    "print(r)"
   ]
  },
  {
   "cell_type": "code",
   "execution_count": 169,
   "id": "a28261af",
   "metadata": {},
   "outputs": [
    {
     "name": "stdout",
     "output_type": "stream",
     "text": [
      "a\n",
      "b\n",
      "c\n"
     ]
    }
   ],
   "source": [
    "# Loop on the tuple \n",
    "tup1 = (\"a\", \"b\", \"c\")\n",
    "for x in tup1:\n",
    "  print(x)"
   ]
  },
  {
   "cell_type": "code",
   "execution_count": 170,
   "id": "43fedae9",
   "metadata": {},
   "outputs": [
    {
     "name": "stdout",
     "output_type": "stream",
     "text": [
      "a\n",
      "b\n",
      "c\n"
     ]
    }
   ],
   "source": [
    "tup1 = (\"a\", \"b\", \"c\")\n",
    "for i in range(len(tup1)):\n",
    "  print(tup1[i])"
   ]
  },
  {
   "cell_type": "code",
   "execution_count": 171,
   "id": "77373212",
   "metadata": {},
   "outputs": [
    {
     "name": "stdout",
     "output_type": "stream",
     "text": [
      "('a', 'b', 'c', 1, 2, 3)\n"
     ]
    }
   ],
   "source": [
    "# Tuple Join \n",
    "tuple1 = (\"a\", \"b\" , \"c\")\n",
    "tuple2 = (1, 2, 3)\n",
    "\n",
    "tuple3 = tuple1 + tuple2\n",
    "print(tuple3)"
   ]
  },
  {
   "cell_type": "code",
   "execution_count": 173,
   "id": "39672256",
   "metadata": {},
   "outputs": [
    {
     "name": "stdout",
     "output_type": "stream",
     "text": [
      "('a', 'b', 'c', 'a', 'b', 'c')\n"
     ]
    }
   ],
   "source": [
    "# Tuple Multiply\n",
    "f = (\"a\", \"b\", \"c\")\n",
    "mytuple = f * 2\n",
    "\n",
    "print(mytuple)"
   ]
  },
  {
   "cell_type": "code",
   "execution_count": 1,
   "id": "d06dd88a",
   "metadata": {},
   "outputs": [
    {
     "name": "stdout",
     "output_type": "stream",
     "text": [
      "56\n"
     ]
    }
   ],
   "source": [
    "c = ((123,23),(234,33),(456,56),(666,23))\n",
    "print(c[2][1])"
   ]
  },
  {
   "cell_type": "code",
   "execution_count": 2,
   "id": "886b7d87",
   "metadata": {},
   "outputs": [
    {
     "name": "stdout",
     "output_type": "stream",
     "text": [
      "(1, 576)\n"
     ]
    }
   ],
   "source": [
    "def minmax(items):\n",
    "    return min(items),max(items)\n",
    "print(minmax([6,3,1,9,10,576,34,44]))"
   ]
  },
  {
   "cell_type": "code",
   "execution_count": 3,
   "id": "236632a8",
   "metadata": {},
   "outputs": [
    {
     "name": "stdout",
     "output_type": "stream",
     "text": [
      "1\n",
      "576\n"
     ]
    }
   ],
   "source": [
    "# unpacking the variable\n",
    "lower, upper = minmax([6,3,1,9,10,576,34,44])\n",
    "print(lower)\n",
    "print(upper)"
   ]
  },
  {
   "cell_type": "markdown",
   "id": "f96cedc7",
   "metadata": {},
   "source": [
    "**Assignment: read about count() and index() and apply on some sample code** "
   ]
  },
  {
   "cell_type": "markdown",
   "id": "433e66c7",
   "metadata": {},
   "source": [
    "**3. SETS**\n",
    "- A set is a collection which is unordered, unchangeable*, and unindexed.\n",
    "- No duplicates Allowed"
   ]
  },
  {
   "cell_type": "code",
   "execution_count": 181,
   "id": "fb8c7b4f",
   "metadata": {},
   "outputs": [
    {
     "name": "stdout",
     "output_type": "stream",
     "text": [
      "{'ab', 'ce', 'bc'}\n"
     ]
    }
   ],
   "source": [
    "set1 = {\"ab\", \"bc\", \"ce\"}\n",
    "print(set1)"
   ]
  },
  {
   "cell_type": "code",
   "execution_count": 182,
   "id": "16a261de",
   "metadata": {},
   "outputs": [
    {
     "name": "stdout",
     "output_type": "stream",
     "text": [
      "ab\n",
      "ce\n",
      "bc\n"
     ]
    }
   ],
   "source": [
    "set1 = {\"ab\", \"bc\", \"ce\"}\n",
    "\n",
    "for x in set1:\n",
    "    print(x)"
   ]
  },
  {
   "cell_type": "code",
   "execution_count": 183,
   "id": "b1239761",
   "metadata": {},
   "outputs": [
    {
     "name": "stdout",
     "output_type": "stream",
     "text": [
      "True\n"
     ]
    }
   ],
   "source": [
    "set1 = {\"ab\", \"bc\", \"ce\"}\n",
    "\n",
    "print(\"bc\" in set1)"
   ]
  },
  {
   "cell_type": "code",
   "execution_count": 188,
   "id": "0e9b89e8",
   "metadata": {},
   "outputs": [
    {
     "name": "stdout",
     "output_type": "stream",
     "text": [
      "{'ce', 'bc', 'or', 'ap'}\n"
     ]
    }
   ],
   "source": [
    "# Use addd() method to add some value to the set\n",
    "# Once set is created the element can't be changed but element can be added to the set\n",
    "set1 = {\"ap\", \"bc\", \"ce\"}\n",
    "\n",
    "set1.add(\"or\")\n",
    "\n",
    "print(set1)"
   ]
  },
  {
   "cell_type": "code",
   "execution_count": 185,
   "id": "88771551",
   "metadata": {},
   "outputs": [
    {
     "name": "stdout",
     "output_type": "stream",
     "text": [
      "{'ba', 'ma', 'pa', 'ch', 'pi', 'ap'}\n"
     ]
    }
   ],
   "source": [
    "# Add elements from one set to another set\n",
    "thisset = {\"ap\", \"ba\", \"ch\"}\n",
    "tropical = {\"pi\", \"ma\", \"pa\"}\n",
    "thisset.update(tropical)\n",
    "print(thisset)"
   ]
  },
  {
   "cell_type": "code",
   "execution_count": 191,
   "id": "9aeb7162",
   "metadata": {},
   "outputs": [
    {
     "name": "stdout",
     "output_type": "stream",
     "text": [
      "{1, 2, 3, 'ce', 'bc', 'ap'}\n"
     ]
    }
   ],
   "source": [
    "# Add elements from a list to the set\n",
    "set1 = {\"ap\", \"bc\", \"ce\"}\n",
    "lst1 = [1,2,3]\n",
    "set1.update(lst1)\n",
    "\n",
    "print(set1)"
   ]
  },
  {
   "cell_type": "code",
   "execution_count": 193,
   "id": "60e2b64b",
   "metadata": {},
   "outputs": [
    {
     "name": "stdout",
     "output_type": "stream",
     "text": [
      "{'ch', 'ap'}\n",
      "{'le', 'na'}\n"
     ]
    }
   ],
   "source": [
    "# Use Remove and Discard\n",
    "# Method 1 \n",
    "set1 = {\"ap\", \"ba\", \"ch\"}\n",
    "set1.remove(\"ba\")\n",
    "print(set1)\n",
    "set2 = {\"le\", \"na\", \"ry\"}\n",
    "set2.discard(\"ry\")\n",
    "\n",
    "print(set2)"
   ]
  },
  {
   "cell_type": "code",
   "execution_count": 198,
   "id": "89028b96",
   "metadata": {},
   "outputs": [
    {
     "name": "stdout",
     "output_type": "stream",
     "text": [
      "ba\n",
      "{'ch', 'ap'}\n"
     ]
    }
   ],
   "source": [
    "# Method 2 for removing element\n",
    "set1 = {\"ap\", \"ba\", \"ch\"}\n",
    "x = set1.pop()\n",
    "print(x)\n",
    "print(set1)"
   ]
  },
  {
   "cell_type": "code",
   "execution_count": 202,
   "id": "4880a776",
   "metadata": {},
   "outputs": [
    {
     "name": "stdout",
     "output_type": "stream",
     "text": [
      "set()\n"
     ]
    }
   ],
   "source": [
    "# Method 3 Empties the set \n",
    "set1 = {\"ap\", \"ba\", \"ch\"}\n",
    "set1.clear()\n",
    "print(set1)\n"
   ]
  },
  {
   "cell_type": "code",
   "execution_count": 201,
   "id": "2c180a7a",
   "metadata": {},
   "outputs": [
    {
     "ename": "NameError",
     "evalue": "name 'set1' is not defined",
     "output_type": "error",
     "traceback": [
      "\u001b[1;31m---------------------------------------------------------------------------\u001b[0m",
      "\u001b[1;31mNameError\u001b[0m                                 Traceback (most recent call last)",
      "\u001b[1;32m<ipython-input-201-c35c2e8431a6>\u001b[0m in \u001b[0;36m<module>\u001b[1;34m\u001b[0m\n\u001b[0;32m      1\u001b[0m \u001b[0mset1\u001b[0m \u001b[1;33m=\u001b[0m \u001b[1;33m{\u001b[0m\u001b[1;34m\"ap\"\u001b[0m\u001b[1;33m,\u001b[0m \u001b[1;34m\"ba\"\u001b[0m\u001b[1;33m,\u001b[0m \u001b[1;34m\"ch\"\u001b[0m\u001b[1;33m}\u001b[0m\u001b[1;33m\u001b[0m\u001b[1;33m\u001b[0m\u001b[0m\n\u001b[0;32m      2\u001b[0m \u001b[1;32mdel\u001b[0m \u001b[0mset1\u001b[0m\u001b[1;33m\u001b[0m\u001b[1;33m\u001b[0m\u001b[0m\n\u001b[1;32m----> 3\u001b[1;33m \u001b[0mprint\u001b[0m\u001b[1;33m(\u001b[0m\u001b[0mset1\u001b[0m\u001b[1;33m)\u001b[0m\u001b[1;33m\u001b[0m\u001b[1;33m\u001b[0m\u001b[0m\n\u001b[0m",
      "\u001b[1;31mNameError\u001b[0m: name 'set1' is not defined"
     ]
    }
   ],
   "source": [
    "# Deletes the set and its comple value \n",
    "set1 = {\"ap\", \"ba\", \"ch\"}\n",
    "del set1\n",
    "print(set1)"
   ]
  },
  {
   "cell_type": "code",
   "execution_count": 203,
   "id": "8c825b07",
   "metadata": {},
   "outputs": [
    {
     "name": "stdout",
     "output_type": "stream",
     "text": [
      "b\n",
      "c\n",
      "a\n"
     ]
    }
   ],
   "source": [
    "# Loop on the values of the set\n",
    "set1 = {\"a\", \"b\", \"c\"}\n",
    "\n",
    "for x in set1:\n",
    "  print(x)"
   ]
  },
  {
   "cell_type": "code",
   "execution_count": 204,
   "id": "1f48c8f9",
   "metadata": {},
   "outputs": [
    {
     "name": "stdout",
     "output_type": "stream",
     "text": [
      "{1, 'b', 'c', 2, 3, 'a'}\n"
     ]
    }
   ],
   "source": [
    "# Join the two sets and forms the new set\n",
    "set1 = {\"a\", \"b\" , \"c\"}\n",
    "set2 = {1, 2, 3}\n",
    "\n",
    "set3 = set1.union(set2)\n",
    "print(set3)"
   ]
  },
  {
   "cell_type": "code",
   "execution_count": 209,
   "id": "68b176ce",
   "metadata": {},
   "outputs": [
    {
     "name": "stdout",
     "output_type": "stream",
     "text": [
      "{1, 'b', 'c', 2, 3, 'a'}\n"
     ]
    }
   ],
   "source": [
    "# Update insets one set value into the another set\n",
    "# exclude the duplicate value \n",
    "set1 = {\"a\", \"b\" , \"c\"}\n",
    "set2 = {1, 2, 3}\n",
    "\n",
    "set1.update(set2)\n",
    "print(set1)"
   ]
  },
  {
   "cell_type": "markdown",
   "id": "8b185121",
   "metadata": {},
   "source": [
    "**Assignment**\n",
    "- Keep only the duplicate value in the Set\n",
    "- Keep All but not the duplicates\n",
    "- work on all the remaining set method on some sample datasets"
   ]
  },
  {
   "cell_type": "markdown",
   "id": "1c53a5af",
   "metadata": {},
   "source": [
    "**4. Dictionaries**\n",
    "- A dictionary is a collection which is ordered*, changeable and do not allow duplicates."
   ]
  },
  {
   "cell_type": "code",
   "execution_count": 214,
   "id": "7346e9ac",
   "metadata": {},
   "outputs": [
    {
     "name": "stdout",
     "output_type": "stream",
     "text": [
      "{'Name': 'Tanu', 'Section': 'I&D', 'Company': 'CG'}\n"
     ]
    }
   ],
   "source": [
    "# creation of dictionary, dictionay can't have two items with the same key\n",
    "thisdict = {\n",
    "  \"Name\": \"Tanu\",\n",
    "  \"Section\": \"I&D\",\n",
    "  \"Company\": \"CG\",\n",
    "   \n",
    "}\n",
    "print(thisdict)"
   ]
  },
  {
   "cell_type": "code",
   "execution_count": 12,
   "id": "6df59eee",
   "metadata": {},
   "outputs": [
    {
     "name": "stdout",
     "output_type": "stream",
     "text": [
      "{'a': 12, 'b': 11, 'c': 33}\n",
      "{'a': 12, 'b': 11, 'c': 33}\n"
     ]
    }
   ],
   "source": [
    "# Dictionary Copy\n",
    "# Method 1\n",
    "d = {'a':12,'b':11,'c':33}\n",
    "e = d.copy()\n",
    "print(e)\n",
    "# Method 2\n",
    "f =  dict(e)\n",
    "print(f)"
   ]
  },
  {
   "cell_type": "code",
   "execution_count": 13,
   "id": "ae5cd18d",
   "metadata": {},
   "outputs": [
    {
     "name": "stdout",
     "output_type": "stream",
     "text": [
      "{'a': 22, 'b': 11, 'c': 33, 'd': 23, 'e': 45}\n"
     ]
    }
   ],
   "source": [
    "k = { 'd':23, 'e':45, 'a':22}\n",
    "e.update(k)\n",
    "print(e)"
   ]
  },
  {
   "cell_type": "code",
   "execution_count": 15,
   "id": "4b705505",
   "metadata": {},
   "outputs": [
    {
     "name": "stdout",
     "output_type": "stream",
     "text": [
      "{'d': 23, 'e': 45, 'a': 22, 'j': 89}\n"
     ]
    }
   ],
   "source": [
    "k.update({'j':89})\n",
    "print(k)"
   ]
  },
  {
   "cell_type": "code",
   "execution_count": 18,
   "id": "263241c7",
   "metadata": {},
   "outputs": [
    {
     "name": "stdout",
     "output_type": "stream",
     "text": [
      "d--> 23\n",
      "e--> 45\n",
      "a--> 22\n",
      "j--> 89\n"
     ]
    }
   ],
   "source": [
    "# printing the key value pair \n",
    "for key in k:\n",
    "    print (f\"{key}--> {k[key]}\")"
   ]
  },
  {
   "cell_type": "code",
   "execution_count": 19,
   "id": "1032dd28",
   "metadata": {},
   "outputs": [
    {
     "name": "stdout",
     "output_type": "stream",
     "text": [
      "23\n",
      "45\n",
      "22\n",
      "89\n"
     ]
    }
   ],
   "source": [
    "# printing the value\n",
    "for value in k.values():\n",
    "    print(value)"
   ]
  },
  {
   "cell_type": "code",
   "execution_count": 23,
   "id": "ee844d12",
   "metadata": {},
   "outputs": [
    {
     "name": "stdout",
     "output_type": "stream",
     "text": [
      "d-->23\n",
      "e-->45\n",
      "a-->22\n",
      "j-->89\n"
     ]
    }
   ],
   "source": [
    "# values are knows as items in dictionary\n",
    "for key,value in k.items():\n",
    "    print(f\"{key}-->{value}\")"
   ]
  },
  {
   "cell_type": "code",
   "execution_count": 25,
   "id": "559c839a",
   "metadata": {},
   "outputs": [
    {
     "name": "stdout",
     "output_type": "stream",
     "text": [
      "{'e': 45, 'a': 22, 'j': 89}\n"
     ]
    }
   ],
   "source": [
    "# Deletion \n",
    "del k['d']\n",
    "print(k)"
   ]
  },
  {
   "cell_type": "code",
   "execution_count": null,
   "id": "5435419f",
   "metadata": {},
   "outputs": [],
   "source": []
  },
  {
   "cell_type": "code",
   "execution_count": null,
   "id": "d6cfc86f",
   "metadata": {},
   "outputs": [],
   "source": []
  },
  {
   "cell_type": "code",
   "execution_count": null,
   "id": "1fb7cfd1",
   "metadata": {},
   "outputs": [],
   "source": []
  },
  {
   "cell_type": "code",
   "execution_count": null,
   "id": "186f1f11",
   "metadata": {},
   "outputs": [],
   "source": []
  },
  {
   "cell_type": "code",
   "execution_count": null,
   "id": "e6ae4a06",
   "metadata": {},
   "outputs": [],
   "source": []
  },
  {
   "cell_type": "code",
   "execution_count": null,
   "id": "d08bc06e",
   "metadata": {},
   "outputs": [],
   "source": []
  },
  {
   "cell_type": "code",
   "execution_count": null,
   "id": "ddf9ebfa",
   "metadata": {},
   "outputs": [],
   "source": []
  },
  {
   "cell_type": "code",
   "execution_count": null,
   "id": "5fdcafcc",
   "metadata": {},
   "outputs": [],
   "source": []
  }
 ],
 "metadata": {
  "kernelspec": {
   "display_name": "Python 3",
   "language": "python",
   "name": "python3"
  },
  "language_info": {
   "codemirror_mode": {
    "name": "ipython",
    "version": 3
   },
   "file_extension": ".py",
   "mimetype": "text/x-python",
   "name": "python",
   "nbconvert_exporter": "python",
   "pygments_lexer": "ipython3",
   "version": "3.8.8"
  }
 },
 "nbformat": 4,
 "nbformat_minor": 5
}
