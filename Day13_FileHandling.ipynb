{
 "cells": [
  {
   "cell_type": "markdown",
   "id": "927c887e",
   "metadata": {},
   "source": [
    "**File Handling**"
   ]
  },
  {
   "cell_type": "code",
   "execution_count": null,
   "id": "8ecf8001",
   "metadata": {},
   "outputs": [],
   "source": [
    "f = open(filename, mode)"
   ]
  },
  {
   "cell_type": "code",
   "execution_count": null,
   "id": "7f2ba751",
   "metadata": {},
   "outputs": [],
   "source": [
    "r: open an existing file for a read operation.\n",
    "w: open an existing file for a write operation. If the file already contains some data then it will be overridden.\n",
    "a:  open an existing file for append operation. It won’t override existing data.\n",
    "r+:  To read and write data into the file. The previous data in the file will be overridden.\n",
    "w+: To write and read data. It will override existing data.\n",
    "a+: To append and read data from the file. It won’t override existing data."
   ]
  },
  {
   "cell_type": "code",
   "execution_count": 2,
   "id": "ad35bbdb",
   "metadata": {},
   "outputs": [
    {
     "name": "stdout",
     "output_type": "stream",
     "text": [
      "\n",
      "\n",
      "Idea- \n",
      "\n",
      "- Build on GCP and we can build it on AWS. \n",
      "\n",
      "- provide some ppl who can develop in AWS. \n",
      "\n",
      "\n",
      "\n",
      "Important Part- \n",
      "\n",
      "slide no. 3 - \n",
      "\n",
      "typical transaction fraud system \n",
      "\n",
      "card issue- user use- swipe the card - some check whould be done - \n",
      "\n",
      "now the task came to synchrony that they need to check whether their fraud or not \n",
      "\n",
      "- Rule is there and whenever the sysytem is there then it need to check that \n",
      "\n",
      "- real time or 4-6 hr batch is coming and everytime we need to check about \n",
      "\n",
      "- scalability, transaction, maintaining the rules is difficult. \n",
      "\n",
      "- Redo according to the synchrony\n",
      "\n",
      "- Flags the transaction\n",
      "\n",
      "- High rate of false positive - bcause based on bussiness rule. \n",
      "\n",
      "- making the change in the rule is difficult.\n",
      "\n",
      "- Rule based + AI based system \n",
      "\n",
      "- Champion challeger capability ( bussiness rules and Ml model) \n",
      "\n",
      " Slowly transitioning into the sysytem\n",
      "\n",
      "-  Drawbacks -->\n",
      "\n",
      "  * Manual analyst -  call user-- understand what is the problem--- Bad user experience \n",
      "\n",
      "  * Bussiness Analyst \n",
      "\n",
      "  * Unnecesasry capacity wastage\n",
      "\n",
      "Understand the problem with the following person perspective:\n",
      "\n",
      "# Fraud Investigation analyst\n",
      "\n",
      "# Bussiness Analyst\n",
      "\n",
      "========================================================================================\n",
      "\n",
      "Technical Part-\n",
      "\n",
      "Bussiness,            IT ,            Operations \n",
      "\n",
      "- This hyperautomation allows bussiness helps to moderate the system\n",
      "\n",
      "Bussiness - \n",
      "\n",
      "- how monitored\n",
      "\n",
      "- champion challenger \n",
      "\n",
      "IT - \n",
      "\n",
      "- API use can be done but it is not scalable solution\n",
      "\n",
      "- pull data in real time - (do you want to pull the information and using in the model is very difficult)\n",
      "\n",
      "- focuses on bussiness infrastructure \n",
      "\n",
      "- current app are in cobol, Java (bring that information in and pull out the system)\n",
      "\n",
      "- latest and greatest tech \n",
      "\n",
      "- scalability \n",
      "\n",
      "Operation (manual analyst)\n",
      "\n",
      "- focus on rigth things \n",
      "\n",
      "- check manual and see the system \n",
      "\n",
      "- pull the data from the other system nad help pull out the solution \n",
      "\n",
      "============================================================================================\n",
      "\n",
      "- Fraud investigator\n",
      "\n",
      "- Fraud strategy Analyst\n",
      "\n",
      "- Fraud case Manager - (assign the case to the team , where to putr the team, X billion dollor of fraud to the ppl)\n",
      "\n",
      "- ML Engineer \n",
      "\n",
      "- It Head (take care of scalability, mainatainitbity and audit trail, system should have stopped it )\n",
      "\n",
      "- OperationHead \n",
      "\n",
      "=========================================================================================\n",
      "\n",
      "Architecture \n",
      "\n",
      "data processing - data about the transaction is huge \n",
      "\n",
      "huge data volume(may be in billion) , real time v/s batch , Google service streaming - use pubshub\n",
      "\n",
      "data flow - use all the services whichi are mentioned below \n",
      "\n",
      "service orchestaraions- how using hyper automation platform \n",
      "\n",
      "slide - 9 \n",
      "\n",
      "no code platform - Waylay \n",
      "\n",
      "Integrate Waylay with GCP - Host and consume the model\n",
      "\n",
      "Batch and real time \n",
      "\n",
      "invoke the preconfigured rule (150 rules applied to check whether a system is fraudulent or not)\n",
      "\n",
      "Alert and goes back to the app engine. \n",
      "\n",
      "- AWS architecture have been created and developed and architecture have been approved\n",
      "\n",
      "- vertex AI / DataIqu/ Tensor flow \n",
      "\n",
      "- microservices we can add \n",
      "\n",
      "- slide 10 \n",
      "\n",
      "       data IQU check the model validation \n",
      "\n",
      "       then deploy on Google platform\n",
      "\n",
      "High level architecture - how we use GCP architecture on the GCP , once developed we can deploy the model \n",
      "\n",
      "1- a - batch \n",
      "\n",
      "1- b - real \n",
      "\n",
      "data prep - process and put the data into the big query and batch \n",
      "\n",
      "          - each transation size is decreasing and changing and bring the value\n",
      "\n",
      "\t  - trigger for the average transaction, on eparticular customer , calculated over time , whether there is  a behavioural change - small things may be there we need to complete it \n",
      "\n",
      "\t  - bring the last value and pull , transformational change. \n",
      "\n",
      "Informatica app - enhanceed functions for the system \n",
      "\n",
      "data prep run with the atreaming the data \n",
      "\n",
      "- can we have two type of the processes \n",
      "\n",
      "- use case specific \n",
      "\n",
      "- Big query , cloud engine , output like of value \n",
      "\n",
      "- End point is the reast API for the system \n",
      "\n",
      "Slide no 11\n",
      "\n",
      " API engine Azure AD-Authentication Cloud IM - Authorisation\n",
      "\n",
      "Waylay - Rule writing and see how the system is working\n",
      "\n",
      "=================================================================================================================================\n",
      "\n",
      "- Some set of rules would be run prior to anything else \n",
      "\n",
      "- 12 digit long - flag the transaction\n",
      "\n",
      "- threshold are being set for the certain rules \n",
      "\n",
      "- train the model every time ( inferencing in real time and re training constantly monitoring it for again and again for checking it)\n",
      "\n",
      "- log this transaction and see the transaction to retain the model - vertex model . depends on the trigger( see data drift and see we need to retrain the model)\n",
      "\n",
      "- Model drift and data drift capability is there in the google.\n",
      "\n",
      "- Sagemaker and ML services for data and model drift\n",
      "\n",
      "- transaction coming through with the merchant number \n",
      "\n",
      "- Check the log and see the transaction being seen on waylay\n",
      "\n",
      "- Payment check \n"
     ]
    }
   ],
   "source": [
    "\n",
    "# a file named \"geek\", will be opened with the reading mode.\n",
    "filepath = r'C:\\Users\\TANSOLAN\\Desktop\\Yahoo\\Hackathon_fraud_Detection.txt'\n",
    "file = open(r'C:\\Users\\TANSOLAN\\Desktop\\Yahoo\\Hackathon_fraud_Detection.txt', 'r')\n",
    "# This will print every line one by one in the file\n",
    "for each in file:\n",
    "    print (each)"
   ]
  },
  {
   "cell_type": "code",
   "execution_count": 4,
   "id": "4b8a73fa",
   "metadata": {},
   "outputs": [
    {
     "name": "stdout",
     "output_type": "stream",
     "text": [
      "\n",
      "Idea\n"
     ]
    }
   ],
   "source": [
    "\n",
    "# Python code to illustrate read() mode character wise\n",
    "file = open(r\"C:\\Users\\TANSOLAN\\Desktop\\Yahoo\\Hackathon_fraud_Detection.txt\", \"r\")\n",
    "print (file.read(5))"
   ]
  },
  {
   "cell_type": "code",
   "execution_count": 22,
   "id": "df182b8c",
   "metadata": {},
   "outputs": [],
   "source": [
    "# Python code to create a file\n",
    "file = open(r'C:\\Users\\TANSOLAN\\Desktop\\Yahoo\\Hackathon_fraud_Detection.txt','w')\n",
    "file.write(\"This is the write command\")\n",
    "file.write(\"It allows us to write in a particular file\")\n",
    "file.close()"
   ]
  },
  {
   "cell_type": "code",
   "execution_count": 28,
   "id": "0e5798f4",
   "metadata": {},
   "outputs": [
    {
     "name": "stdout",
     "output_type": "stream",
     "text": [
      "This is the write commandIt allows us to write in a particular fileThis will add this line\n"
     ]
    }
   ],
   "source": [
    "file = open(r'C:\\Users\\TANSOLAN\\Desktop\\Yahoo\\Hackathon_fraud_Detection.txt', 'r')\n",
    "# This will print every line one by one in the file\n",
    "for each in file:\n",
    "    print (each)"
   ]
  },
  {
   "cell_type": "code",
   "execution_count": 24,
   "id": "89d42766",
   "metadata": {},
   "outputs": [],
   "source": [
    "# Python code to illustrate append() mode\n",
    "file = open(r'C:\\Users\\TANSOLAN\\Desktop\\Yahoo\\Hackathon_fraud_Detection.txt','a')\n",
    "file.write(\"This will add this line\")\n",
    "file.close()"
   ]
  },
  {
   "cell_type": "code",
   "execution_count": 30,
   "id": "cbb94ffa",
   "metadata": {},
   "outputs": [
    {
     "name": "stdout",
     "output_type": "stream",
     "text": [
      "This is the write commandIt allows us to write in a particular fileThis will add this line\n"
     ]
    }
   ],
   "source": [
    "file = open(r'C:\\Users\\TANSOLAN\\Desktop\\Yahoo\\Hackathon_fraud_Detection.txt', 'r')\n",
    "# This will print every line one by one in the file\n",
    "for each in file:\n",
    "    print (each)"
   ]
  },
  {
   "cell_type": "code",
   "execution_count": 29,
   "id": "c3b8ed8b",
   "metadata": {},
   "outputs": [],
   "source": [
    "# Python code to illustrate with()\n",
    "with open(r\"C:\\Users\\TANSOLAN\\Desktop\\Yahoo\\Hackathon_fraud_Detection.txt\") as file: \n",
    "    data = file.read()"
   ]
  },
  {
   "cell_type": "code",
   "execution_count": 18,
   "id": "d9ae677e",
   "metadata": {},
   "outputs": [],
   "source": [
    "with open(r\"C:\\Users\\TANSOLAN\\Desktop\\Yahoo\\Hackathon_fraud_Detection.txt\",'w') as f: \n",
    "    f.write('Hello How are you!!!')"
   ]
  },
  {
   "cell_type": "markdown",
   "id": "011d8727",
   "metadata": {},
   "source": [
    "**Split**\n"
   ]
  },
  {
   "cell_type": "code",
   "execution_count": 19,
   "id": "acfad75b",
   "metadata": {},
   "outputs": [
    {
     "name": "stdout",
     "output_type": "stream",
     "text": [
      "['Hello', 'How', 'are', 'you!!!']\n"
     ]
    }
   ],
   "source": [
    "# Python code to illustrate split() function\n",
    "with open(r\"C:\\Users\\TANSOLAN\\Desktop\\Yahoo\\Hackathon_fraud_Detection.txt\", \"r\") as file:\n",
    "    data = file.readlines()\n",
    "    for line in data:\n",
    "        word = line.split()\n",
    "        print (word)"
   ]
  },
  {
   "cell_type": "code",
   "execution_count": 34,
   "id": "d5e2f07f",
   "metadata": {},
   "outputs": [
    {
     "name": "stdout",
     "output_type": "stream",
     "text": [
      "3.141414233\n",
      "  898899098\n",
      "  263567788\n"
     ]
    }
   ],
   "source": [
    "# check the code statement\n",
    "with open(r\"C:\\Users\\TANSOLAN\\Desktop\\Yahoo\\content.txt\") as f:\n",
    "    contents = f.read()\n",
    "    print(contents.rstrip())"
   ]
  }
 ],
 "metadata": {
  "kernelspec": {
   "display_name": "Python 3",
   "language": "python",
   "name": "python3"
  },
  "language_info": {
   "codemirror_mode": {
    "name": "ipython",
    "version": 3
   },
   "file_extension": ".py",
   "mimetype": "text/x-python",
   "name": "python",
   "nbconvert_exporter": "python",
   "pygments_lexer": "ipython3",
   "version": "3.8.8"
  }
 },
 "nbformat": 4,
 "nbformat_minor": 5
}
