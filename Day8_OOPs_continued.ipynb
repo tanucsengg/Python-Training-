{
 "cells": [
  {
   "cell_type": "markdown",
   "id": "3d5eeef6",
   "metadata": {},
   "source": [
    "***Day8_OOps Concepts continuation***"
   ]
  },
  {
   "cell_type": "markdown",
   "id": "27ed1426",
   "metadata": {},
   "source": [
    "- Data Hiding :In Python, we use double underscore (Or __) before the attributes name and those attributes will not be directly visible outside. "
   ]
  },
  {
   "cell_type": "code",
   "execution_count": 9,
   "id": "30b6afc9",
   "metadata": {},
   "outputs": [
    {
     "name": "stdout",
     "output_type": "stream",
     "text": [
      "2\n",
      "7\n",
      "7\n"
     ]
    }
   ],
   "source": [
    "class MyClass:\n",
    "  \n",
    "    # Hidden member of MyClass\n",
    "    __hiddenVariable = 0\n",
    "    \n",
    "    # A member method that changes \n",
    "    # __hiddenVariable \n",
    "    def add(self, increment):\n",
    "        self.hiddenVariable += increment\n",
    "        print (self.hiddenVariable)\n",
    "   \n",
    "# Driver code\n",
    "myObject = MyClass()     \n",
    "myObject.add(2)\n",
    "myObject.add(5)\n",
    "  \n",
    "# This line causes error\n",
    "print (myObject.hiddenVariable)"
   ]
  },
  {
   "cell_type": "markdown",
   "id": "8e037d47",
   "metadata": {},
   "source": [
    "- In the above program, we tried to access a hidden variable outside the class using an object and it threw an exception."
   ]
  },
  {
   "cell_type": "code",
   "execution_count": 2,
   "id": "7f2ae22b",
   "metadata": {},
   "outputs": [
    {
     "name": "stdout",
     "output_type": "stream",
     "text": [
      "10\n"
     ]
    }
   ],
   "source": [
    "\n",
    "# A Python program to demonstrate that hidden\n",
    "# members can be accessed outside a class\n",
    "class MyClass:\n",
    "  \n",
    "    # Hidden member of MyClass\n",
    "    __hiddenVariable = 10\n",
    "  \n",
    "# Driver code\n",
    "myObject = MyClass()     \n",
    "print(myObject._MyClass__hiddenVariable)"
   ]
  },
  {
   "cell_type": "code",
   "execution_count": 3,
   "id": "8a169461",
   "metadata": {},
   "outputs": [
    {
     "name": "stdout",
     "output_type": "stream",
     "text": [
      "From str method of Test: a is 1234,b is 5678\n",
      "[Test a:1234 b:5678]\n"
     ]
    }
   ],
   "source": [
    "class Test:\n",
    "    def __init__(self, a, b):\n",
    "        self.a = a\n",
    "        self.b = b\n",
    "  \n",
    "    def __repr__(self):\n",
    "        return \"Test a:%s b:%s\" % (self.a, self.b)\n",
    "  \n",
    "    def __str__(self):\n",
    "        return \"From str method of Test: a is %s,\" \\\n",
    "              \"b is %s\" % (self.a, self.b)\n",
    "  \n",
    "# Driver Code        \n",
    "t = Test(1234, 5678)\n",
    "print(t) # This calls __str__()\n",
    "print([t]) # This calls __repr__()"
   ]
  },
  {
   "cell_type": "code",
   "execution_count": 4,
   "id": "a1f83530",
   "metadata": {},
   "outputs": [
    {
     "name": "stdout",
     "output_type": "stream",
     "text": [
      "Test a:1234 b:5678\n"
     ]
    }
   ],
   "source": [
    "class Test:\n",
    "    def __init__(self, a, b):\n",
    "        self.a = a\n",
    "        self.b = b\n",
    "  \n",
    "    def __repr__(self):\n",
    "        return \"Test a:%s b:%s\" % (self.a, self.b)\n",
    "  \n",
    "# Driver Code        \n",
    "t = Test(1234, 5678)\n",
    "print(t) "
   ]
  },
  {
   "cell_type": "code",
   "execution_count": 6,
   "id": "d83f40b4",
   "metadata": {},
   "outputs": [
    {
     "name": "stdout",
     "output_type": "stream",
     "text": [
      "<__main__.Test object at 0x000001E91F80CDF0>\n",
      "<__main__.Test object at 0x000001E91F80CDF0>\n"
     ]
    }
   ],
   "source": [
    "class Test:\n",
    "    def __init__(self, a, b):\n",
    "        self.a = a\n",
    "        self.b = b\n",
    "  \n",
    "# Driver Code        \n",
    "t = Test(1234, 5678)\n",
    "print(t)\n",
    "print(str(t))"
   ]
  },
  {
   "cell_type": "markdown",
   "id": "539d5991",
   "metadata": {},
   "source": [
    "**Sample Question**"
   ]
  },
  {
   "cell_type": "code",
   "execution_count": 10,
   "id": "38738398",
   "metadata": {},
   "outputs": [
    {
     "name": "stdout",
     "output_type": "stream",
     "text": [
      "6\n"
     ]
    }
   ],
   "source": [
    "# calculate the maximum of the list of the numbers \n",
    "#list1 = [1,2,3,45,3]\n",
    "def max_of_two( x, y ):\n",
    "    if x > y:\n",
    "        return x\n",
    "    return y\n",
    "def max_of_three( x, y, z ):\n",
    "    return max_of_two( x, max_of_two( y, z ) )\n",
    "print(max_of_three(3, 6, -5))"
   ]
  },
  {
   "cell_type": "code",
   "execution_count": null,
   "id": "be071498",
   "metadata": {},
   "outputs": [],
   "source": [
    "# calculate the sum of the list\n",
    "def sum(numbers):\n",
    "    total = 0\n",
    "    for x in numbers:\n",
    "        total += x  # total = total+x\n",
    "    return total\n",
    "print(sum((8, 2, 3, 0, 7)))\n"
   ]
  },
  {
   "cell_type": "code",
   "execution_count": null,
   "id": "de83ecc9",
   "metadata": {},
   "outputs": [],
   "source": [
    "# Multiply the list of numbers\n",
    "def multiply(numbers):  \n",
    "    total = 1\n",
    "    for x in numbers:\n",
    "        total *= x  \n",
    "    return total  \n",
    "print(multiply((8, 2, 3, -1, 7)))"
   ]
  },
  {
   "cell_type": "code",
   "execution_count": 11,
   "id": "fdf2757c",
   "metadata": {},
   "outputs": [
    {
     "name": "stdout",
     "output_type": "stream",
     "text": [
      "dcba4321\n"
     ]
    }
   ],
   "source": [
    "# rreverse the string\n",
    "def string_reverse(str1):\n",
    "\n",
    "    rstr1 = ''\n",
    "    index = len(str1)\n",
    "    while index > 0:\n",
    "        rstr1 += str1[ index - 1 ]\n",
    "        index = index - 1\n",
    "    return rstr1\n",
    "print(string_reverse('1234abcd'))"
   ]
  },
  {
   "cell_type": "code",
   "execution_count": null,
   "id": "895b21aa",
   "metadata": {},
   "outputs": [],
   "source": [
    "# Check number falls in the range \n",
    "def test_range(n):\n",
    "    if n in range(3,9):\n",
    "        print( \" %s is in the range\"%str(n))\n",
    "    else :\n",
    "        print(\"The number is outside the given range.\")\n",
    "test_range(5)"
   ]
  },
  {
   "cell_type": "code",
   "execution_count": 1,
   "id": "fe7cade4",
   "metadata": {},
   "outputs": [
    {
     "name": "stdout",
     "output_type": "stream",
     "text": [
      "Original String :  The quick Brown Fox\n",
      "No. of Upper case characters :  3\n",
      "No. of Lower case Characters :  13\n"
     ]
    }
   ],
   "source": [
    "# calculate the number of uppercase and lowercase alphabets\n",
    "def string_test(s):\n",
    "    d={\"UPPER_CASE\":0, \"LOWER_CASE\":0}\n",
    "    for c in s:\n",
    "        if c.isupper():\n",
    "           d[\"UPPER_CASE\"]+=1\n",
    "        elif c.islower():\n",
    "           d[\"LOWER_CASE\"]+=1\n",
    "        else:\n",
    "           pass\n",
    "    print (\"Original String : \", s)\n",
    "    print (\"No. of Upper case characters : \", d[\"UPPER_CASE\"])\n",
    "    print (\"No. of Lower case Characters : \", d[\"LOWER_CASE\"])\n",
    "\n",
    "string_test('The quick Brown Fox')"
   ]
  }
 ],
 "metadata": {
  "kernelspec": {
   "display_name": "Python 3",
   "language": "python",
   "name": "python3"
  },
  "language_info": {
   "codemirror_mode": {
    "name": "ipython",
    "version": 3
   },
   "file_extension": ".py",
   "mimetype": "text/x-python",
   "name": "python",
   "nbconvert_exporter": "python",
   "pygments_lexer": "ipython3",
   "version": "3.8.8"
  }
 },
 "nbformat": 4,
 "nbformat_minor": 5
}
