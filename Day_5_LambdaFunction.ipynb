{
 "cells": [
  {
   "cell_type": "markdown",
   "id": "c2cdc237",
   "metadata": {},
   "source": [
    "**Day 5**"
   ]
  },
  {
   "cell_type": "markdown",
   "id": "086ab72c",
   "metadata": {},
   "source": [
    "**Lambda Functions**\n",
    "- A lambda function is a small anonymous function.\n",
    "- A lambda function can take any number of arguments, but can only have one expression."
   ]
  },
  {
   "cell_type": "markdown",
   "id": "f9689a00",
   "metadata": {},
   "source": [
    "**Syntax**\n",
    "- lambda arguments : expression"
   ]
  },
  {
   "cell_type": "code",
   "execution_count": null,
   "id": "008abb3e",
   "metadata": {},
   "outputs": [],
   "source": [
    "def add(a):\n",
    "    a = a+5\n",
    "    return a\n",
    "print(add(5))"
   ]
  },
  {
   "cell_type": "code",
   "execution_count": 49,
   "id": "9a7e5d10",
   "metadata": {},
   "outputs": [
    {
     "name": "stdout",
     "output_type": "stream",
     "text": [
      "10\n"
     ]
    }
   ],
   "source": [
    "# Add 5 to the argument\n",
    "x = lambda a : a + 5\n",
    "print(x(5))"
   ]
  },
  {
   "cell_type": "code",
   "execution_count": 3,
   "id": "a2dd75ef",
   "metadata": {},
   "outputs": [
    {
     "name": "stdout",
     "output_type": "stream",
     "text": [
      "30\n"
     ]
    }
   ],
   "source": [
    "# Multiply a and b \n",
    "x = lambda a, b : a * b\n",
    "print(x(5, 6))"
   ]
  },
  {
   "cell_type": "code",
   "execution_count": 4,
   "id": "e42ac57b",
   "metadata": {},
   "outputs": [
    {
     "name": "stdout",
     "output_type": "stream",
     "text": [
      "13\n"
     ]
    }
   ],
   "source": [
    "# Add a,b and c andreturn the result\n",
    "x = lambda a, b, c : a + b + c\n",
    "print(x(5, 6, 2))"
   ]
  },
  {
   "cell_type": "code",
   "execution_count": 6,
   "id": "280a22b5",
   "metadata": {},
   "outputs": [
    {
     "name": "stdout",
     "output_type": "stream",
     "text": [
      "30\n"
     ]
    }
   ],
   "source": [
    "sum = lambda arg1, arg2: arg1 + arg2\n",
    "print(sum(10,20))"
   ]
  },
  {
   "cell_type": "code",
   "execution_count": 41,
   "id": "ace9a445",
   "metadata": {},
   "outputs": [
    {
     "name": "stdout",
     "output_type": "stream",
     "text": [
      "2\n"
     ]
    }
   ],
   "source": [
    "x=lambda x:x*2 for x in range(1,11)\n",
    "print(x(1))"
   ]
  },
  {
   "cell_type": "code",
   "execution_count": 44,
   "id": "5b565821",
   "metadata": {},
   "outputs": [
    {
     "name": "stdout",
     "output_type": "stream",
     "text": [
      "[5, 10, 15, 20, 25, 30, 35, 40, 45, 50]\n"
     ]
    }
   ],
   "source": [
    "multiples = [n * 5 for n in range(1, 11)]\n",
    "print(multiples)"
   ]
  },
  {
   "cell_type": "code",
   "execution_count": 47,
   "id": "952a610b",
   "metadata": {},
   "outputs": [
    {
     "name": "stdout",
     "output_type": "stream",
     "text": [
      "2\n",
      "4\n",
      "6\n",
      "8\n",
      "10\n",
      "12\n",
      "14\n",
      "16\n",
      "18\n",
      "20\n"
     ]
    }
   ],
   "source": [
    "# Printing a table using Lambda Function\n",
    "tables = [lambda x = x: x*2 for x in range(1, 11)]\n",
    "for table in tables:\n",
    "    print(table())"
   ]
  },
  {
   "cell_type": "code",
   "execution_count": 8,
   "id": "7c58d566",
   "metadata": {},
   "outputs": [
    {
     "name": "stdout",
     "output_type": "stream",
     "text": [
      "2\n"
     ]
    }
   ],
   "source": [
    "# Example of lambda function using if-else\n",
    "Max = lambda a, b : a if(a > b) else b\n",
    "print(Max(1, 2))"
   ]
  },
  {
   "cell_type": "code",
   "execution_count": 31,
   "id": "c3144c24",
   "metadata": {},
   "outputs": [
    {
     "name": "stdout",
     "output_type": "stream",
     "text": [
      "[3, 16, 9]\n"
     ]
    }
   ],
   "source": [
    "List = [[3,2,14],[4,1,16, 64],[3, 6, 9, 12]]\n",
    " \n",
    "# Sort each sublist\n",
    "sortList = lambda x: (sorted(i) for i in x)\n",
    "# Get the second largest element\n",
    "secondLargest = lambda x, f : [y[len(y)-2] for y in f(x)]\n",
    "# code ---lambda\n",
    "res = secondLargest(List, sortList)\n",
    " \n",
    "print(res)"
   ]
  },
  {
   "cell_type": "code",
   "execution_count": null,
   "id": "85ae2d93",
   "metadata": {},
   "outputs": [],
   "source": [
    "1,3,5,6,7--->\n",
    "7,9,10----->\n",
    "2,7------>"
   ]
  },
  {
   "cell_type": "code",
   "execution_count": 28,
   "id": "9919c5e1",
   "metadata": {},
   "outputs": [
    {
     "name": "stdout",
     "output_type": "stream",
     "text": [
      "[2, 3, 4]\n",
      "[1, 4, 16, 64]\n",
      "[3, 6, 9, 12]\n"
     ]
    }
   ],
   "source": [
    "List = [[3,2,4],[4, 1, 16, 64],[3, 6, 9, 12]]\n",
    "for i in List:\n",
    "    print(sorted(i))\n",
    "    x= sorted(i)"
   ]
  },
  {
   "cell_type": "code",
   "execution_count": 5,
   "id": "32b2bcab",
   "metadata": {},
   "outputs": [
    {
     "name": "stdout",
     "output_type": "stream",
     "text": [
      "20\n"
     ]
    }
   ],
   "source": [
    "# Use lambda function inside another function \n",
    "def myfun(n):\n",
    "    return lambda a : a * n\n",
    "\n",
    "mydoubler = myfun(2)\n",
    "\n",
    "print(mydoubler(10))"
   ]
  },
  {
   "cell_type": "code",
   "execution_count": 26,
   "id": "024e8ccb",
   "metadata": {},
   "outputs": [
    {
     "name": "stdout",
     "output_type": "stream",
     "text": [
      "5.0\n",
      "5.0\n",
      "5.0\n",
      "amazing lambda\n"
     ]
    }
   ],
   "source": [
    "f00 = lambda x: x/2\n",
    "\n",
    "print(f00(10))\n",
    "\n",
    "print((lambda x: x/2)(10))\n",
    "\n",
    "print((lambda x, y: x / y)(10, 2))\n",
    "\n",
    "print((lambda: 'amazing lambda')()) # func with no args!"
   ]
  },
  {
   "cell_type": "code",
   "execution_count": 27,
   "id": "9381bbdd",
   "metadata": {},
   "outputs": [
    {
     "data": {
      "text/plain": [
       "[2, 3, 3, 4, 6, 8, 23]"
      ]
     },
     "execution_count": 27,
     "metadata": {},
     "output_type": "execute_result"
    }
   ],
   "source": [
    "mylist = [3, 6, 3, 2, 4, 8, 23]\n",
    "sorted(mylist)  "
   ]
  },
  {
   "cell_type": "code",
   "execution_count": 34,
   "id": "457624a4",
   "metadata": {},
   "outputs": [
    {
     "name": "stdout",
     "output_type": "stream",
     "text": [
      "125\n",
      "125\n"
     ]
    }
   ],
   "source": [
    "# Python code to illustrate cube of a number\n",
    "# showing difference between def() and lambda().\n",
    "def cube(y):\n",
    "    return y*y*y\n",
    " \n",
    "lambda_cube = lambda y: y*y*y\n",
    " \n",
    "# using the normally\n",
    "# defined function\n",
    "print(cube(5))\n",
    " \n",
    "# using the lambda function\n",
    "print(lambda_cube(5))"
   ]
  },
  {
   "cell_type": "markdown",
   "id": "14277c95",
   "metadata": {},
   "source": [
    "**Filter with lambda**\n",
    "- The filter() function in Python takes in a function and a list as arguments. "
   ]
  },
  {
   "cell_type": "code",
   "execution_count": 35,
   "id": "1ce3fdda",
   "metadata": {},
   "outputs": [
    {
     "name": "stdout",
     "output_type": "stream",
     "text": [
      "[5, 7, 97, 77, 23, 73, 61]\n"
     ]
    }
   ],
   "source": [
    "# filter() with lambda()\n",
    "li = [5, 7, 22, 97, 54, 62, 77, 23, 73, 61]\n",
    " \n",
    "final_list = list(filter(lambda x: (x%2 != 0) , li))\n",
    "print(final_list)"
   ]
  },
  {
   "cell_type": "code",
   "execution_count": 36,
   "id": "377613f9",
   "metadata": {},
   "outputs": [
    {
     "name": "stdout",
     "output_type": "stream",
     "text": [
      "[90, 59, 21, 60]\n"
     ]
    }
   ],
   "source": [
    "# Python 3 code to people above 18 yrs\n",
    "ages = [13, 90, 17, 59, 21, 60, 5]\n",
    " \n",
    "adults = list(filter(lambda age: age>18, ages))\n",
    " \n",
    "print(adults)"
   ]
  },
  {
   "cell_type": "markdown",
   "id": "6485b9e8",
   "metadata": {},
   "source": [
    "**Lambda Function with Map**\n",
    "- The map() function in Python takes in a function and a list as an argument."
   ]
  },
  {
   "cell_type": "code",
   "execution_count": 38,
   "id": "a05bc00a",
   "metadata": {},
   "outputs": [
    {
     "name": "stdout",
     "output_type": "stream",
     "text": [
      "[10, 14, 44, 194, 108, 124, 154, 46, 146, 122]\n"
     ]
    }
   ],
   "source": [
    "# filter() with lambda()\n",
    "# map() with lambda()\n",
    "# to get double of a list.\n",
    "li = [5, 7, 22, 97, 54, 62, 77, 23, 73, 61]\n",
    " \n",
    "final_list = list(map(lambda x: x*2, li))\n",
    "print(final_list)"
   ]
  },
  {
   "cell_type": "code",
   "execution_count": null,
   "id": "61c82d92",
   "metadata": {},
   "outputs": [],
   "source": [
    " Assignment : ---  Reduce, Filter, Map - Questions - try to solve them"
   ]
  },
  {
   "cell_type": "code",
   "execution_count": null,
   "id": "0c18f04d",
   "metadata": {},
   "outputs": [],
   "source": []
  }
 ],
 "metadata": {
  "kernelspec": {
   "display_name": "Python 3",
   "language": "python",
   "name": "python3"
  },
  "language_info": {
   "codemirror_mode": {
    "name": "ipython",
    "version": 3
   },
   "file_extension": ".py",
   "mimetype": "text/x-python",
   "name": "python",
   "nbconvert_exporter": "python",
   "pygments_lexer": "ipython3",
   "version": "3.8.8"
  }
 },
 "nbformat": 4,
 "nbformat_minor": 5
}
