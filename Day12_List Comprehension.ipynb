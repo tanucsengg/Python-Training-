{
 "cells": [
  {
   "cell_type": "markdown",
   "id": "67b36fad",
   "metadata": {},
   "source": [
    "**List and Set Comprehension**\n"
   ]
  },
  {
   "cell_type": "markdown",
   "id": "efd8b09e",
   "metadata": {},
   "source": [
    "**Comprehension in Python**"
   ]
  },
  {
   "cell_type": "markdown",
   "id": "4971eda6",
   "metadata": {},
   "source": [
    "- A set comprehension is similar to a list comprehension but returns a set instead of a list. \n",
    "- The syntax is slightly different in the sense that we use curly brackets instead of square brackets to create a set."
   ]
  },
  {
   "cell_type": "code",
   "execution_count": 38,
   "id": "757e6a33",
   "metadata": {},
   "outputs": [
    {
     "name": "stdout",
     "output_type": "stream",
     "text": [
      "[0, 1, 16, 81, 256, 625]\n"
     ]
    }
   ],
   "source": [
    "squares = [0, 1, 4, 9,16,25]\n",
    "sq = []\n",
    "for num in squares:\n",
    "    sq.append(num*num)\n",
    "print(sq)"
   ]
  },
  {
   "cell_type": "code",
   "execution_count": 37,
   "id": "13cc3912",
   "metadata": {},
   "outputs": [
    {
     "name": "stdout",
     "output_type": "stream",
     "text": [
      "[0, 1, 4, 9, 16, 25]\n"
     ]
    }
   ],
   "source": [
    "squares = []\n",
    "for num in range(6):\n",
    "    squares.append(num*num)1\n",
    "print(squares)"
   ]
  },
  {
   "cell_type": "code",
   "execution_count": 39,
   "id": "a04d316e",
   "metadata": {},
   "outputs": [
    {
     "name": "stdout",
     "output_type": "stream",
     "text": [
      "[0, 1, 4, 9, 16, 25]\n"
     ]
    }
   ],
   "source": [
    "squares = [num*num for num in range(6)]\n",
    "print(squares)"
   ]
  },
  {
   "cell_type": "markdown",
   "id": "9e6a4b3b",
   "metadata": {},
   "source": [
    "- List comprehension is a way to define and create lists in Python in a concise way."
   ]
  },
  {
   "cell_type": "code",
   "execution_count": 7,
   "id": "cafa60fe",
   "metadata": {},
   "outputs": [
    {
     "name": "stdout",
     "output_type": "stream",
     "text": [
      "[0, 4, 16, 36, 64, 100]\n"
     ]
    }
   ],
   "source": [
    "even_squares = []\n",
    "for num in range(11):\n",
    "    if num%2 == 0:\n",
    "        even_squares.append(num * num) \n",
    "print(even_squares)"
   ]
  },
  {
   "cell_type": "code",
   "execution_count": 40,
   "id": "5c8ab949",
   "metadata": {},
   "outputs": [
    {
     "data": {
      "text/plain": [
       "[0, 4, 16, 36, 64, 100]"
      ]
     },
     "execution_count": 40,
     "metadata": {},
     "output_type": "execute_result"
    }
   ],
   "source": [
    "even_squares = [num * num for num in range(11) if num%2 == 0]\n",
    "even_squares\n"
   ]
  },
  {
   "cell_type": "code",
   "execution_count": 8,
   "id": "688a6c17",
   "metadata": {},
   "outputs": [
    {
     "data": {
      "text/plain": [
       "[(3, 4, 5),\n",
       " (4, 3, 5),\n",
       " (5, 12, 13),\n",
       " (6, 8, 10),\n",
       " (7, 24, 25),\n",
       " (8, 6, 10),\n",
       " (8, 15, 17),\n",
       " (9, 12, 15),\n",
       " (10, 24, 26),\n",
       " (12, 5, 13),\n",
       " (12, 9, 15),\n",
       " (12, 16, 20),\n",
       " (15, 8, 17),\n",
       " (15, 20, 25),\n",
       " (16, 12, 20),\n",
       " (20, 15, 25),\n",
       " (20, 21, 29),\n",
       " (21, 20, 29),\n",
       " (24, 7, 25),\n",
       " (24, 10, 26)]"
      ]
     },
     "execution_count": 8,
     "metadata": {},
     "output_type": "execute_result"
    }
   ],
   "source": [
    "# Pythogoreus Triplet\n",
    "\n",
    "[(a,b,c) for a in range(1,30) for b in range(1,30) for c in range(1,30)if a**2 + b**2 == c**2]\n"
   ]
  },
  {
   "cell_type": "code",
   "execution_count": 41,
   "id": "c048d7e5",
   "metadata": {},
   "outputs": [
    {
     "data": {
      "text/plain": [
       "['pink', 'white', 'blue', 'black', 'purple']"
      ]
     },
     "execution_count": 41,
     "metadata": {},
     "output_type": "execute_result"
    }
   ],
   "source": [
    "# Converting lowercase letters to uppercase\n",
    "colors = ['PINK', 'WHITE', 'BLUE', 'BLACK', 'PURPLE']\n",
    "[color.lower() for color in colors]\n"
   ]
  },
  {
   "cell_type": "code",
   "execution_count": 42,
   "id": "b0b2a2be",
   "metadata": {},
   "outputs": [
    {
     "name": "stdout",
     "output_type": "stream",
     "text": [
      "[['George', 'Washington'], ['John', 'Adams'], ['Thomas', 'Jefferson'], ['James', 'Madison'], ['James', 'Monroe'], ['John', 'Adams'], ['Andrew', 'Jackson']]\n"
     ]
    },
    {
     "data": {
      "text/plain": [
       "['Washington George',\n",
       " 'Adams John',\n",
       " 'Jefferson Thomas',\n",
       " 'Madison James',\n",
       " 'Monroe James',\n",
       " 'Adams John',\n",
       " 'Jackson Andrew']"
      ]
     },
     "execution_count": 42,
     "metadata": {},
     "output_type": "execute_result"
    }
   ],
   "source": [
    "presidents_usa = [\"George Washington\", \"John Adams\",\"Thomas Jefferson\",\"James Madison\",\"James Monroe\",\"John Adams\",\"Andrew Jackson\"]\n",
    "split_names = [name.split(\" \") for name in presidents_usa]\n",
    "print(split_names)\n",
    "swapped_list = [split_name[1] + \" \" + split_name[0] for split_name in split_names]\n",
    "swapped_list"
   ]
  },
  {
   "cell_type": "code",
   "execution_count": 20,
   "id": "3796c88a",
   "metadata": {},
   "outputs": [
    {
     "data": {
      "text/plain": [
       "[('Tom', 6.0),\n",
       " ('Daisy', 5.6),\n",
       " ('Margaret', 5.9),\n",
       " ('Michael', 6.2),\n",
       " ('Nick', 5.4)]"
      ]
     },
     "execution_count": 20,
     "metadata": {},
     "output_type": "execute_result"
    }
   ],
   "source": [
    "# Convert height from cms to feet using List Comprehension : 1 cm = 0.0328 feet\n",
    "height_in_cms = [('Tom',183),('Daisy',171),('Margaret',179),('Michael',190),('Nick',165)]\n",
    "height_in_feet = [(height[0],round(height[1]*0.0328,1)) for height in height_in_cms]\n",
    "height_in_feet"
   ]
  },
  {
   "cell_type": "code",
   "execution_count": 21,
   "id": "99aaef89",
   "metadata": {},
   "outputs": [
    {
     "data": {
      "text/plain": [
       "[[0, 1, 4], [1, 2, 5], [2, 3, 6]]"
      ]
     },
     "execution_count": 21,
     "metadata": {},
     "output_type": "execute_result"
    }
   ],
   "source": [
    "# creating a 3*3 matrix\n",
    "matrix = [[j * j+i for j in range(3)] for i in range(3)]\n",
    "matrix\n"
   ]
  },
  {
   "cell_type": "markdown",
   "id": "a5f37578",
   "metadata": {},
   "source": [
    "- A set comprehension is similar to a list comprehension but returns a set instead of a list. \n",
    "- The syntax is slightly different in the sense that we use curly brackets instead of square brackets to create a set."
   ]
  },
  {
   "cell_type": "code",
   "execution_count": 24,
   "id": "89b94816",
   "metadata": {},
   "outputs": [
    {
     "data": {
      "text/plain": [
       "{'Alice', 'Arnold', 'Bill', 'Mary'}"
      ]
     },
     "execution_count": 24,
     "metadata": {},
     "output_type": "execute_result"
    }
   ],
   "source": [
    "names = [ 'Arnold', 'BILL', 'alice', 'arnold', 'MARY', 'J', 'BIll' ,'maRy']\n",
    "{name.capitalize() for name in names if len(name) > 1}\n"
   ]
  },
  {
   "cell_type": "code",
   "execution_count": 25,
   "id": "301c5f5e",
   "metadata": {},
   "outputs": [
    {
     "data": {
      "text/plain": [
       "{'a': 9, 'z': 12, 'd': 8}"
      ]
     },
     "execution_count": 25,
     "metadata": {},
     "output_type": "execute_result"
    }
   ],
   "source": [
    "# Dictionary Comprehension\n",
    "char_dict = {'A' : 4,'z': 2, 'D' : 8, 'a': 5, 'Z' : 10 }\n",
    "{ k.lower() : char_dict.get(k.lower(), 0) + char_dict.get(k.upper(), 0) for k in char_dict.keys()}"
   ]
  },
  {
   "cell_type": "markdown",
   "id": "2e3bd51e",
   "metadata": {},
   "source": [
    "- Generator Comprehension\n",
    "- List comprehensions are to lists, as generator expressions are to generators. \n",
    "- Generator functions output values one-at-a-time from a given sequence instead of giving them all at once."
   ]
  },
  {
   "cell_type": "markdown",
   "id": "76d847a7",
   "metadata": {},
   "source": [
    "- Generator-Function : \n",
    "    - A generator-function is defined like a normal function, but whenever it needs to generate a value, it does so with the yield keyword rather than return. \n",
    "    - If the body of a def contains yield, the function automatically becomes a generator function."
   ]
  },
  {
   "cell_type": "code",
   "execution_count": 27,
   "id": "931b458f",
   "metadata": {},
   "outputs": [
    {
     "name": "stdout",
     "output_type": "stream",
     "text": [
      "1\n",
      "2\n",
      "3\n"
     ]
    }
   ],
   "source": [
    "def simpleGeneratorFun():\n",
    "    yield 1            \n",
    "    yield 2            \n",
    "    yield 3            \n",
    "   \n",
    "# Driver code to check above generator function\n",
    "for value in simpleGeneratorFun(): \n",
    "    print(value)"
   ]
  },
  {
   "cell_type": "markdown",
   "id": "dc982952",
   "metadata": {},
   "source": [
    "- Generator-Object : \n",
    "    - Generator functions return a generator object. \n",
    "    - Generator objects are used either by calling the next method on the generator object or using the generator object in a “for in” loop"
   ]
  },
  {
   "cell_type": "code",
   "execution_count": 30,
   "id": "8fff2029",
   "metadata": {},
   "outputs": [
    {
     "name": "stdout",
     "output_type": "stream",
     "text": [
      "1\n",
      "2\n",
      "3\n"
     ]
    }
   ],
   "source": [
    "# A Python program to demonstrate use of \n",
    "# generator object with next() \n",
    "  \n",
    "# A generator function\n",
    "def simpleGeneratorFun():\n",
    "    yield 1\n",
    "    yield 2\n",
    "    yield 3\n",
    "   \n",
    "# x is a generator object\n",
    "x = simpleGeneratorFun()\n",
    "  \n",
    "# Iterating over the generator object using next\n",
    "print(next(x)) # In Python 3, __next__()\n",
    "print(next(x))\n",
    "print(next(x))"
   ]
  },
  {
   "cell_type": "code",
   "execution_count": 31,
   "id": "0a8a5708",
   "metadata": {},
   "outputs": [
    {
     "name": "stdout",
     "output_type": "stream",
     "text": [
      "0\n",
      "1\n",
      "1\n",
      "2\n",
      "3\n",
      "\n",
      "Using for in loop\n",
      "0\n",
      "1\n",
      "1\n",
      "2\n",
      "3\n"
     ]
    }
   ],
   "source": [
    "# A simple generator for Fibonacci Numbers\n",
    "def fib(limit):\n",
    "      \n",
    "    # Initialize first two Fibonacci Numbers \n",
    "    a, b = 0, 1\n",
    "  \n",
    "    # One by one yield next Fibonacci Number\n",
    "    while a < limit:\n",
    "        yield a\n",
    "        a, b = b, a + b\n",
    "  \n",
    "# Create a generator object\n",
    "x = fib(5)\n",
    "  \n",
    "# Iterating over the generator object using next\n",
    "print(next(x)) # In Python 3, __next__()\n",
    "print(next(x))\n",
    "print(next(x))\n",
    "print(next(x))\n",
    "print(next(x))\n",
    "  \n",
    "# Iterating over the generator object using for\n",
    "# in loop.\n",
    "print(\"\\nUsing for in loop\")\n",
    "for i in fib(5): \n",
    "    print(i)"
   ]
  },
  {
   "cell_type": "code",
   "execution_count": 32,
   "id": "a970b6f7",
   "metadata": {},
   "outputs": [
    {
     "data": {
      "text/plain": [
       "385"
      ]
     },
     "execution_count": 32,
     "metadata": {},
     "output_type": "execute_result"
    }
   ],
   "source": [
    "# Sum of first ten natural numbers using List Comprehensions\n",
    "sum([num**2 for num in range(11)])\n",
    "385"
   ]
  },
  {
   "cell_type": "code",
   "execution_count": 33,
   "id": "96cf3859",
   "metadata": {},
   "outputs": [
    {
     "data": {
      "text/plain": [
       "385"
      ]
     },
     "execution_count": 33,
     "metadata": {},
     "output_type": "execute_result"
    }
   ],
   "source": [
    "sum({num**2 for num in range(11)})\n",
    "385"
   ]
  },
  {
   "cell_type": "code",
   "execution_count": 34,
   "id": "ca6d046d",
   "metadata": {},
   "outputs": [
    {
     "data": {
      "text/plain": [
       "<generator object <genexpr> at 0x0000029BC47F3350>"
      ]
     },
     "execution_count": 34,
     "metadata": {},
     "output_type": "execute_result"
    }
   ],
   "source": [
    "squares = (num**2 for num in range(11))\n",
    "squares"
   ]
  }
 ],
 "metadata": {
  "kernelspec": {
   "display_name": "Python 3",
   "language": "python",
   "name": "python3"
  },
  "language_info": {
   "codemirror_mode": {
    "name": "ipython",
    "version": 3
   },
   "file_extension": ".py",
   "mimetype": "text/x-python",
   "name": "python",
   "nbconvert_exporter": "python",
   "pygments_lexer": "ipython3",
   "version": "3.8.8"
  }
 },
 "nbformat": 4,
 "nbformat_minor": 5
}
