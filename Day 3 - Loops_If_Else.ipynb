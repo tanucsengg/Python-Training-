{
 "cells": [
  {
   "cell_type": "markdown",
   "id": "2084b3c7",
   "metadata": {},
   "source": [
    "***IF Else***"
   ]
  },
  {
   "cell_type": "markdown",
   "id": "0906d574",
   "metadata": {},
   "source": [
    "***Python Supports Logical Conditions***\n",
    "- Equals: a == b\n",
    "- Not Equals: a != b\n",
    "- Less than: a < b\n",
    "- Less than or equal to: a <= b\n",
    "- Greater than: a > b\n",
    "- Greater than or equal to: a >= b"
   ]
  },
  {
   "cell_type": "markdown",
   "id": "f82eb1f6",
   "metadata": {},
   "source": [
    "**IF Statement***"
   ]
  },
  {
   "cell_type": "code",
   "execution_count": 32,
   "id": "19570637",
   "metadata": {},
   "outputs": [],
   "source": [
    "a = 23\n",
    "b = 10\n",
    "if b > a:\n",
    "  print(\"b is greater than a\")"
   ]
  },
  {
   "cell_type": "markdown",
   "id": "29dd86ae",
   "metadata": {},
   "source": [
    "***IF ELIF***"
   ]
  },
  {
   "cell_type": "code",
   "execution_count": 33,
   "id": "7f80901c",
   "metadata": {},
   "outputs": [
    {
     "name": "stdout",
     "output_type": "stream",
     "text": [
      "b is greater than a\n"
     ]
    }
   ],
   "source": [
    "a = 23\n",
    "b = 23\n",
    "if b > a:\n",
    "  print(\"b is greater than a\")\n",
    "elif a == b:\n",
    "  print(\"a and b are equal\")"
   ]
  },
  {
   "cell_type": "markdown",
   "id": "c977960e",
   "metadata": {},
   "source": [
    "***IF ELIF ELSE***"
   ]
  },
  {
   "cell_type": "code",
   "execution_count": 3,
   "id": "0a14aca1",
   "metadata": {},
   "outputs": [
    {
     "name": "stdout",
     "output_type": "stream",
     "text": [
      "a is greater than b\n"
     ]
    }
   ],
   "source": [
    "a = 100\n",
    "b = 13\n",
    "if b > a:\n",
    "  print(\"b is greater than a\")\n",
    "elif a == b:\n",
    "  print(\"a and b are equal\")\n",
    "else:\n",
    "  print(\"a is greater than b\")"
   ]
  },
  {
   "cell_type": "markdown",
   "id": "d29d640e",
   "metadata": {},
   "source": [
    "**one line of If and else statement**"
   ]
  },
  {
   "cell_type": "code",
   "execution_count": 4,
   "id": "e4b46351",
   "metadata": {},
   "outputs": [
    {
     "name": "stdout",
     "output_type": "stream",
     "text": [
      "B\n"
     ]
    }
   ],
   "source": [
    "a = 2\n",
    "b = 330\n",
    "print(\"A\") if a > b else print(\"B\")"
   ]
  },
  {
   "cell_type": "code",
   "execution_count": 8,
   "id": "98b976ee",
   "metadata": {},
   "outputs": [
    {
     "name": "stdout",
     "output_type": "stream",
     "text": [
      "=\n"
     ]
    }
   ],
   "source": [
    "a = 130\n",
    "b = 130\n",
    "print(\"A\") if a > b else print(\"=\") if a == b else print(\"B\")"
   ]
  },
  {
   "cell_type": "markdown",
   "id": "fbd98018",
   "metadata": {},
   "source": [
    "***AND OR***"
   ]
  },
  {
   "cell_type": "code",
   "execution_count": 36,
   "id": "c5adb7a8",
   "metadata": {},
   "outputs": [
    {
     "name": "stdout",
     "output_type": "stream",
     "text": [
      "Both conditions are True\n"
     ]
    }
   ],
   "source": [
    "a = 200\n",
    "b = 33\n",
    "c = 50\n",
    "if a > b or c > a:\n",
    "  print(\"Both conditions are True\")"
   ]
  },
  {
   "cell_type": "markdown",
   "id": "97821355",
   "metadata": {},
   "source": [
    "***Nested IF- IF within the IF***"
   ]
  },
  {
   "cell_type": "code",
   "execution_count": 37,
   "id": "67eaa474",
   "metadata": {},
   "outputs": [
    {
     "name": "stdout",
     "output_type": "stream",
     "text": [
      "Above ten,\n",
      "and also above 20!\n"
     ]
    }
   ],
   "source": [
    "x = 41\n",
    "\n",
    "if x > 10:\n",
    "  print(\"Above ten,\")\n",
    "  if x > 20:\n",
    "    print(\"and also above 20!\")\n",
    "  else:\n",
    "    print(\"but not above 20.\")"
   ]
  },
  {
   "cell_type": "markdown",
   "id": "a96fcef6",
   "metadata": {},
   "source": [
    "***While Loop***"
   ]
  },
  {
   "cell_type": "code",
   "execution_count": 17,
   "id": "0a27f213",
   "metadata": {},
   "outputs": [
    {
     "name": "stdout",
     "output_type": "stream",
     "text": [
      "5\n",
      "7\n",
      "9\n"
     ]
    }
   ],
   "source": [
    "i = 5\n",
    "while i < 10:\n",
    "  print(i)\n",
    "  i += 1 # i = i+2"
   ]
  },
  {
   "cell_type": "code",
   "execution_count": 41,
   "id": "52449af4",
   "metadata": {},
   "outputs": [
    {
     "name": "stdout",
     "output_type": "stream",
     "text": [
      "3\n",
      "4\n",
      "5\n"
     ]
    }
   ],
   "source": [
    "# Use break to stop the loop even then the while condition is true\n",
    "i = 3\n",
    "while i < 8:\n",
    "    print(i)\n",
    "    if i == 5:\n",
    "        break\n",
    "    i += 1"
   ]
  },
  {
   "cell_type": "code",
   "execution_count": 20,
   "id": "d88d5fc1",
   "metadata": {},
   "outputs": [
    {
     "name": "stdout",
     "output_type": "stream",
     "text": [
      "1\n",
      "2\n",
      "4\n",
      "5\n",
      "6\n"
     ]
    }
   ],
   "source": [
    "# Use continue to stop the current iteration and continue with the next iteration\n",
    "i = 0\n",
    "while i < 6:\n",
    "  i += 1\n",
    "  if i == 3:\n",
    "    continue\n",
    "  print(i)"
   ]
  },
  {
   "cell_type": "code",
   "execution_count": 21,
   "id": "6b2c5e72",
   "metadata": {},
   "outputs": [
    {
     "name": "stdout",
     "output_type": "stream",
     "text": [
      "1\n",
      "2\n",
      "3\n",
      "4\n",
      "5\n",
      "i is no longer less than 6\n"
     ]
    }
   ],
   "source": [
    "# Use else to run a block of code when one block condition is not true\n",
    "i = 1\n",
    "while i < 6:\n",
    "  print(i)\n",
    "  i += 1\n",
    "else:\n",
    "  print(\"i is no longer less than 6\")"
   ]
  },
  {
   "cell_type": "markdown",
   "id": "47a02181",
   "metadata": {},
   "source": [
    "***FOR LOOP***"
   ]
  },
  {
   "cell_type": "code",
   "execution_count": 45,
   "id": "7f03b4d6",
   "metadata": {},
   "outputs": [
    {
     "name": "stdout",
     "output_type": "stream",
     "text": [
      "Tata\n",
      "tata is present\n",
      "Mahindra\n",
      "x\n",
      "y\n"
     ]
    }
   ],
   "source": [
    "cars = ['Tata','Mahindra','x','y']\n",
    "for x in cars:\n",
    "    print(x)\n",
    "    if x == 'Tata':\n",
    "        print(\"tata is present\")"
   ]
  },
  {
   "cell_type": "code",
   "execution_count": 23,
   "id": "cf180aea",
   "metadata": {},
   "outputs": [
    {
     "name": "stdout",
     "output_type": "stream",
     "text": [
      "I\n",
      "A\n",
      "m\n",
      "H\n",
      "a\n",
      "p\n",
      "p\n",
      "y\n"
     ]
    }
   ],
   "source": [
    "for x in \"IAmHappy\":\n",
    "    print(x)\n"
   ]
  },
  {
   "cell_type": "code",
   "execution_count": 43,
   "id": "685af1c2",
   "metadata": {},
   "outputs": [
    {
     "name": "stdout",
     "output_type": "stream",
     "text": [
      "Read\n",
      "Excercise\n"
     ]
    }
   ],
   "source": [
    "goodhabbit = ['Read','Excercise','Eatless']\n",
    "for x in goodhabbit:\n",
    "    print(x)\n",
    "    if x == 'Excercise':\n",
    "        break"
   ]
  },
  {
   "cell_type": "code",
   "execution_count": 27,
   "id": "c57ece3a",
   "metadata": {},
   "outputs": [
    {
     "name": "stdout",
     "output_type": "stream",
     "text": [
      "Read\n",
      "Excercise\n",
      "Eatless\n"
     ]
    }
   ],
   "source": [
    "goodhabbit = ['Read','Excercise','Eatless']\n",
    "for x in goodhabbit:\n",
    "    print(x)\n",
    "    if x == 'Excercise':\n",
    "        continue"
   ]
  },
  {
   "cell_type": "code",
   "execution_count": 47,
   "id": "8bc18322",
   "metadata": {},
   "outputs": [
    {
     "name": "stdout",
     "output_type": "stream",
     "text": [
      "Read\n"
     ]
    }
   ],
   "source": [
    "goodhabbit = ['Read','Excercise','Eatless']\n",
    "for x in goodhabbit:\n",
    "    if x == 'Excercise':\n",
    "        continue\n",
    "    print(x)"
   ]
  },
  {
   "cell_type": "code",
   "execution_count": 29,
   "id": "a3784521",
   "metadata": {},
   "outputs": [
    {
     "name": "stdout",
     "output_type": "stream",
     "text": [
      "1 6\n",
      "1 7\n",
      "1 8\n",
      "2 6\n",
      "2 7\n",
      "2 8\n",
      "3 6\n",
      "3 7\n",
      "3 8\n"
     ]
    }
   ],
   "source": [
    "lst = [1,2,3]\n",
    "lst1 = [6,7,8]\n",
    "for x in lst:\n",
    "    for y in lst1:\n",
    "        print(x,y)"
   ]
  },
  {
   "cell_type": "markdown",
   "id": "0b950cfc",
   "metadata": {},
   "source": [
    "***Functions***\n",
    "- A function is a block of code which only runs when it is called.\n",
    "- You can pass data, known as parameters, into a function.\n",
    "- A function can return data as a result."
   ]
  },
  {
   "cell_type": "code",
   "execution_count": 31,
   "id": "723aaaf6",
   "metadata": {},
   "outputs": [],
   "source": [
    "def my_function():\n",
    "  print(\"I like functions they make the task easy\")"
   ]
  }
 ],
 "metadata": {
  "kernelspec": {
   "display_name": "Python 3",
   "language": "python",
   "name": "python3"
  },
  "language_info": {
   "codemirror_mode": {
    "name": "ipython",
    "version": 3
   },
   "file_extension": ".py",
   "mimetype": "text/x-python",
   "name": "python",
   "nbconvert_exporter": "python",
   "pygments_lexer": "ipython3",
   "version": "3.8.8"
  }
 },
 "nbformat": 4,
 "nbformat_minor": 5
}
