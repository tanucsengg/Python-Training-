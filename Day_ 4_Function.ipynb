{
 "cells": [
  {
   "cell_type": "markdown",
   "id": "829c031f",
   "metadata": {},
   "source": [
    "***Day 4 -FUNCTIONS***\n",
    "- A function is a block of code which only runs when it is called.\n",
    "- You can pass data, known as parameters, into a function.\n",
    "- A function can return data as a result."
   ]
  },
  {
   "cell_type": "code",
   "execution_count": 26,
   "id": "e4f56295",
   "metadata": {},
   "outputs": [
    {
     "name": "stdout",
     "output_type": "stream",
     "text": [
      "Hello there I am in function\n"
     ]
    }
   ],
   "source": [
    "def my_fun():\n",
    "  print(\"Hello there I am in function\")\n",
    "my_fun()"
   ]
  },
  {
   "cell_type": "code",
   "execution_count": 31,
   "id": "fe2e44e8",
   "metadata": {},
   "outputs": [
    {
     "name": "stdout",
     "output_type": "stream",
     "text": [
      "53\n"
     ]
    }
   ],
   "source": [
    "def add(a,b=10,c=20):\n",
    "    return a+b+c\n",
    "print(add(30,3))\n"
   ]
  },
  {
   "cell_type": "markdown",
   "id": "e1276ea5",
   "metadata": {},
   "source": [
    "**Arguments**\n",
    "- Information can be passed into functions as arguments.\n",
    "- Arguments are specified after the function name, inside the parentheses. You can add as many arguments as you want, just separate them with a comma."
   ]
  },
  {
   "cell_type": "code",
   "execution_count": 4,
   "id": "0b582f14",
   "metadata": {},
   "outputs": [
    {
     "name": "stdout",
     "output_type": "stream",
     "text": [
      "gaming\n",
      "planting\n",
      "reading\n"
     ]
    }
   ],
   "source": [
    "# arguments in short form are known as args\n",
    "# parameter and Argument are the same thing\n",
    "def my_function(hobby):\n",
    "  print(hobby + \"\")\n",
    "\n",
    "my_function(\"gaming\")\n",
    "my_function(\"planting\")\n",
    "my_function(\"reading\")\n"
   ]
  },
  {
   "cell_type": "code",
   "execution_count": 5,
   "id": "ac6aaf1d",
   "metadata": {},
   "outputs": [
    {
     "name": "stdout",
     "output_type": "stream",
     "text": [
      "CS A\n"
     ]
    }
   ],
   "source": [
    "# Function have 2 arguments branch and section\n",
    "def my_func(branch, section):\n",
    "  print(branch + \" \" + section)\n",
    "\n",
    "my_func(\"CS\", \"A\")"
   ]
  },
  {
   "cell_type": "code",
   "execution_count": 6,
   "id": "c72a9705",
   "metadata": {},
   "outputs": [
    {
     "ename": "TypeError",
     "evalue": "my_func() missing 1 required positional argument: 'section'",
     "output_type": "error",
     "traceback": [
      "\u001b[1;31m---------------------------------------------------------------------------\u001b[0m",
      "\u001b[1;31mTypeError\u001b[0m                                 Traceback (most recent call last)",
      "\u001b[1;32m<ipython-input-6-617b489bd53d>\u001b[0m in \u001b[0;36m<module>\u001b[1;34m\u001b[0m\n\u001b[0;32m      3\u001b[0m   \u001b[0mprint\u001b[0m\u001b[1;33m(\u001b[0m\u001b[0mbranch\u001b[0m \u001b[1;33m+\u001b[0m \u001b[1;34m\" \"\u001b[0m \u001b[1;33m+\u001b[0m \u001b[0msection\u001b[0m\u001b[1;33m)\u001b[0m\u001b[1;33m\u001b[0m\u001b[1;33m\u001b[0m\u001b[0m\n\u001b[0;32m      4\u001b[0m \u001b[1;33m\u001b[0m\u001b[0m\n\u001b[1;32m----> 5\u001b[1;33m \u001b[0mmy_func\u001b[0m\u001b[1;33m(\u001b[0m\u001b[1;34m\"CS\"\u001b[0m\u001b[1;33m)\u001b[0m\u001b[1;33m\u001b[0m\u001b[1;33m\u001b[0m\u001b[0m\n\u001b[0m",
      "\u001b[1;31mTypeError\u001b[0m: my_func() missing 1 required positional argument: 'section'"
     ]
    }
   ],
   "source": [
    "# Function expects two arguments but gets only 1 argument\n",
    "def my_func(branch, section):\n",
    "  print(branch + \" \" + section)\n",
    "\n",
    "my_func(\"CS\")"
   ]
  },
  {
   "cell_type": "markdown",
   "id": "b07e6b46",
   "metadata": {},
   "source": [
    "**Arbitary Arguments *args**\n",
    "- If you do not know how many arguments that will be passed into your function, add a * before the parameter name in the function definition."
   ]
  },
  {
   "cell_type": "code",
   "execution_count": 27,
   "id": "011e1bf0",
   "metadata": {},
   "outputs": [
    {
     "name": "stdout",
     "output_type": "stream",
     "text": [
      "The important subject is SSt\n"
     ]
    }
   ],
   "source": [
    "def my_func(*subjects):\n",
    "  print(\"The important subject is \" + subjects[2])\n",
    "\n",
    "my_func(\"Maths\", \"Science\", \"SSt\")"
   ]
  },
  {
   "cell_type": "markdown",
   "id": "f36ad391",
   "metadata": {},
   "source": [
    "***Keyword Argument***\n",
    "- You can also send arguments with the key = value syntax"
   ]
  },
  {
   "cell_type": "code",
   "execution_count": 28,
   "id": "df1711c7",
   "metadata": {},
   "outputs": [
    {
     "name": "stdout",
     "output_type": "stream",
     "text": [
      "The important subject is Maths\n"
     ]
    }
   ],
   "source": [
    "def my_func(sub3, sub2, sub1):\n",
    "  print(\"The important subject is \" + sub2)\n",
    "\n",
    "my_func(sub1 = \"English\", sub2 = \"Maths\", sub3 = \"Science\")"
   ]
  },
  {
   "cell_type": "code",
   "execution_count": null,
   "id": "4bc59b36",
   "metadata": {},
   "outputs": [],
   "source": [
    "**Arbitary Keyword Arguments**\n",
    "- If you don't know how many keyword arguments would be passed "
   ]
  },
  {
   "cell_type": "code",
   "execution_count": 21,
   "id": "fb53db35",
   "metadata": {},
   "outputs": [
    {
     "name": "stdout",
     "output_type": "stream",
     "text": [
      "first == abc\n",
      "mid == xyz\n",
      "last == pqr\n"
     ]
    }
   ],
   "source": [
    "def myFun(**kwargs):\n",
    "    for key, value in kwargs.items():\n",
    "        print(\"%s == %s\" % (key, value))\n",
    "\n",
    "myFun(first='abc', mid='xyz', last='pqr')"
   ]
  },
  {
   "cell_type": "code",
   "execution_count": 12,
   "id": "49a5caaa",
   "metadata": {},
   "outputs": [
    {
     "name": "stdout",
     "output_type": "stream",
     "text": [
      "I am from Sweden\n",
      "I am from India\n",
      "I am from Norway\n",
      "I am from Brazil\n"
     ]
    }
   ],
   "source": [
    "# DEfault Parameter Value \n",
    "def my_function(country = \"Norway\"):\n",
    "  print(\"I am from \" + country)\n",
    "\n",
    "my_function(\"Sweden\")\n",
    "my_function(\"India\")\n",
    "my_function()\n",
    "my_function(\"Brazil\")"
   ]
  },
  {
   "cell_type": "code",
   "execution_count": 13,
   "id": "436d1f75",
   "metadata": {},
   "outputs": [
    {
     "name": "stdout",
     "output_type": "stream",
     "text": [
      "roti\n",
      "sabji\n",
      "chutney\n"
     ]
    }
   ],
   "source": [
    "# passing List as the argument \n",
    "def my_function(food):\n",
    "  for x in food:\n",
    "    print(x)\n",
    "\n",
    "food = [\"roti\", \"sabji\", \"chutney\"]\n",
    "\n",
    "my_function(food)"
   ]
  },
  {
   "cell_type": "code",
   "execution_count": 14,
   "id": "6b504e5c",
   "metadata": {},
   "outputs": [
    {
     "name": "stdout",
     "output_type": "stream",
     "text": [
      "4\n",
      "8\n",
      "6\n"
     ]
    }
   ],
   "source": [
    "# return used to return the Value \n",
    "def my_function(x):\n",
    "  return 2 * x\n",
    "\n",
    "print(my_function(2))\n",
    "print(my_function(4))\n",
    "print(my_function(3))"
   ]
  },
  {
   "cell_type": "markdown",
   "id": "97d25b72",
   "metadata": {},
   "source": [
    "***Recusion***"
   ]
  },
  {
   "cell_type": "code",
   "execution_count": null,
   "id": "9251790c",
   "metadata": {},
   "outputs": [],
   "source": [
    "def recursion():\n",
    "    if (true):\n",
    "        return\n",
    "    recursion()\n",
    "recursion()"
   ]
  },
  {
   "cell_type": "code",
   "execution_count": 23,
   "id": "029ef84a",
   "metadata": {},
   "outputs": [
    {
     "name": "stdout",
     "output_type": "stream",
     "text": [
      "\n",
      "\n",
      "Recursion Example Results\n",
      "1\n",
      "3\n",
      "6\n",
      "10\n",
      "15\n",
      "21\n"
     ]
    },
    {
     "data": {
      "text/plain": [
       "21"
      ]
     },
     "execution_count": 23,
     "metadata": {},
     "output_type": "execute_result"
    }
   ],
   "source": [
    "# Recursion - repetition\n",
    "def tri_recursion(k):\n",
    "    if(k > 0):\n",
    "        result = k + tri_recursion(k - 1)\n",
    "        \n",
    "    else:\n",
    "        result = 0\n",
    "    return result\n",
    "\n",
    "print(\"\\n\\nRecursion Example Results\")\n",
    "tri_recursion(6)"
   ]
  },
  {
   "cell_type": "code",
   "execution_count": 30,
   "id": "5cd85333",
   "metadata": {},
   "outputs": [
    {
     "name": "stdout",
     "output_type": "stream",
     "text": [
      "Enter a number: 5\n",
      "The factorial of 5 is 120\n"
     ]
    }
   ],
   "source": [
    "# Code for Factorial \n",
    "# Python program to find the factorial of a number provided by the user\n",
    "# using recursion\n",
    "\n",
    "def factorial(x):\n",
    "    \"\"\"This is a recursive function\n",
    "    to find the factorial of an integer\"\"\"\n",
    "\n",
    "    if x == 1:\n",
    "        return 1\n",
    "    else:\n",
    "        # recursive call to the function\n",
    "        return (x * factorial(x-1))\n",
    "\n",
    "# change the value for a different result\n",
    "# num = 5\n",
    "\n",
    "# to take input from the user\n",
    "num = int(input(\"Enter a number: \"))\n",
    "\n",
    "# call the factorial function\n",
    "result = factorial(num)\n",
    "print(\"The factorial of\", num, \"is\", result)"
   ]
  },
  {
   "cell_type": "code",
   "execution_count": 24,
   "id": "5a536f6c",
   "metadata": {},
   "outputs": [
    {
     "name": "stdout",
     "output_type": "stream",
     "text": [
      "factorial of 5 is  120\n"
     ]
    }
   ],
   "source": [
    "# Factorial Program \n",
    "def factorial(x):\n",
    "    if x==1:\n",
    "        return 1\n",
    "    else:\n",
    "        return x*factorial(x-1)\n",
    "\n",
    "f=factorial(5)\n",
    "print (\"factorial of 5 is \",f)"
   ]
  },
  {
   "cell_type": "markdown",
   "id": "6cf68000",
   "metadata": {},
   "source": [
    "**Code for Fibonnaci** \n",
    "- The Fibonacci numbers are the numbers in the following integer sequence.\n",
    "- 0, 1, 1, 2, 3, 5, 8, 13, 21, 34, 55, 89, 144, …….."
   ]
  },
  {
   "cell_type": "code",
   "execution_count": 17,
   "id": "f123fb17",
   "metadata": {},
   "outputs": [
    {
     "name": "stdout",
     "output_type": "stream",
     "text": [
      "34\n"
     ]
    }
   ],
   "source": [
    "\n",
    "# Function for nth Fibonacci number\n",
    "def Fibonacci(n):\n",
    "   \n",
    "    # Check if input is 0 then it will\n",
    "    # print incorrect input\n",
    "    if n < 0:\n",
    "        print(\"Incorrect input\")\n",
    " \n",
    "    # Check if n is 0\n",
    "    # then it will return 0\n",
    "    elif n == 0:\n",
    "        return 0\n",
    " \n",
    "    # Check if n is 1,2\n",
    "    # it will return 1\n",
    "    elif n == 1 or n == 2:\n",
    "        return 1\n",
    " \n",
    "    else:\n",
    "        return Fibonacci(n-1) + Fibonacci(n-2)\n",
    " \n",
    "# Driver Program\n",
    "print(Fibonacci(9))"
   ]
  },
  {
   "cell_type": "code",
   "execution_count": null,
   "id": "056cb7e0",
   "metadata": {},
   "outputs": [],
   "source": []
  }
 ],
 "metadata": {
  "kernelspec": {
   "display_name": "Python 3",
   "language": "python",
   "name": "python3"
  },
  "language_info": {
   "codemirror_mode": {
    "name": "ipython",
    "version": 3
   },
   "file_extension": ".py",
   "mimetype": "text/x-python",
   "name": "python",
   "nbconvert_exporter": "python",
   "pygments_lexer": "ipython3",
   "version": "3.8.8"
  }
 },
 "nbformat": 4,
 "nbformat_minor": 5
}
