{
 "cells": [
  {
   "cell_type": "markdown",
   "id": "0f024a33",
   "metadata": {},
   "source": [
    "***OOPS Concepts***"
   ]
  },
  {
   "cell_type": "markdown",
   "id": "80b695f6",
   "metadata": {},
   "source": [
    "**__init()__**"
   ]
  },
  {
   "cell_type": "code",
   "execution_count": 1,
   "id": "21da97fa",
   "metadata": {},
   "outputs": [
    {
     "name": "stdout",
     "output_type": "stream",
     "text": [
      "__main__\n"
     ]
    }
   ],
   "source": [
    "print(__name__)"
   ]
  },
  {
   "cell_type": "code",
   "execution_count": 25,
   "id": "65e2949c",
   "metadata": {},
   "outputs": [],
   "source": [
    "#Class\n",
    "class MyClass:\n",
    "    x = 5\n",
    "    y = 10.2"
   ]
  },
  {
   "cell_type": "code",
   "execution_count": 26,
   "id": "0c765bdf",
   "metadata": {},
   "outputs": [
    {
     "name": "stdout",
     "output_type": "stream",
     "text": [
      "10.2\n"
     ]
    }
   ],
   "source": [
    "# Object\n",
    "p1 = MyClass()\n",
    "print(p1.y)"
   ]
  },
  {
   "cell_type": "markdown",
   "id": "b93ea172",
   "metadata": {},
   "source": [
    "**__init()__**\n",
    "-which is always executed when the class is being initiated."
   ]
  },
  {
   "cell_type": "markdown",
   "id": "0d869592",
   "metadata": {},
   "source": [
    "- To understand the meaning of classes we have to understand the built-in __init__() function.\n",
    "- All classes have a function called __init__(), which is always executed when the class is being initiated.\n",
    "- Use the __init__() function to assign values to object properties, or other operations that are necessary to do when the object is being created:"
   ]
  },
  {
   "cell_type": "code",
   "execution_count": 27,
   "id": "c8246bc7",
   "metadata": {},
   "outputs": [
    {
     "name": "stdout",
     "output_type": "stream",
     "text": [
      "tanu\n",
      "data scientist\n"
     ]
    }
   ],
   "source": [
    "class Person:\n",
    "  def __init__(self, name, profession):\n",
    "    self.name = name\n",
    "    self.profession = profession\n",
    "\n",
    "p1 = Person(\"tanu\", \"data scientist\")\n",
    "\n",
    "print(p1.name)\n",
    "print(p1.profession)"
   ]
  },
  {
   "cell_type": "markdown",
   "id": "733e93ed",
   "metadata": {},
   "source": [
    "**Object Method**\n",
    "- Objects can also contain methods. Methods in objects are functions that belong to the object."
   ]
  },
  {
   "cell_type": "code",
   "execution_count": 12,
   "id": "e79a389c",
   "metadata": {},
   "outputs": [
    {
     "name": "stdout",
     "output_type": "stream",
     "text": [
      "Hello my name is tanu\n"
     ]
    }
   ],
   "source": [
    "class Person:\n",
    "  def __init__(self, name, profession):\n",
    "    self.name = name\n",
    "    self.profession = profession\n",
    "\n",
    "  def myfunc(self):\n",
    "    print(\"Hello my name is \" + self.name)\n",
    "\n",
    "p1 = Person(\"tanu\", \"data scientist\")\n",
    "p1.myfunc()"
   ]
  },
  {
   "cell_type": "markdown",
   "id": "24b21f04",
   "metadata": {},
   "source": [
    "**Self Parameter**\n",
    "- The self parameter is a reference to the current instance of the class, and is used to access variables that belongs to the class."
   ]
  },
  {
   "cell_type": "code",
   "execution_count": 16,
   "id": "4515ac30",
   "metadata": {},
   "outputs": [
    {
     "name": "stdout",
     "output_type": "stream",
     "text": [
      "Hello my name is Tanu\n"
     ]
    }
   ],
   "source": [
    "class Person:\n",
    "  def __init__(mysillyobject, name, profession):\n",
    "    mysillyobject.name = name\n",
    "    mysillyobject.profession = profession\n",
    "\n",
    "  def myfunc(abc):\n",
    "    print(\"Hello my name is \" + abc.name)\n",
    "\n",
    "p1 = Person(\"Tanu\", \"data scientist\")\n",
    "p1.myfunc()"
   ]
  },
  {
   "cell_type": "markdown",
   "id": "4aa71db7",
   "metadata": {},
   "source": [
    "**Modify Object Properties**"
   ]
  },
  {
   "cell_type": "code",
   "execution_count": 17,
   "id": "f1e8211b",
   "metadata": {},
   "outputs": [],
   "source": [
    "p1.age = 40"
   ]
  },
  {
   "cell_type": "markdown",
   "id": "26a09dcd",
   "metadata": {},
   "source": [
    "**Delete Object Properties**"
   ]
  },
  {
   "cell_type": "code",
   "execution_count": 18,
   "id": "83b39f24",
   "metadata": {},
   "outputs": [],
   "source": [
    "del p1.age"
   ]
  },
  {
   "cell_type": "markdown",
   "id": "b1365b5e",
   "metadata": {},
   "source": [
    "**Delete Object**"
   ]
  },
  {
   "cell_type": "code",
   "execution_count": 19,
   "id": "37b1d3ac",
   "metadata": {},
   "outputs": [],
   "source": [
    "del p1"
   ]
  },
  {
   "cell_type": "code",
   "execution_count": 20,
   "id": "7f9aa216",
   "metadata": {},
   "outputs": [],
   "source": [
    "# class definition can't be empty but if you have to do it that use pass\n",
    "class Person:\n",
    "  pass"
   ]
  }
 ],
 "metadata": {
  "kernelspec": {
   "display_name": "Python 3",
   "language": "python",
   "name": "python3"
  },
  "language_info": {
   "codemirror_mode": {
    "name": "ipython",
    "version": 3
   },
   "file_extension": ".py",
   "mimetype": "text/x-python",
   "name": "python",
   "nbconvert_exporter": "python",
   "pygments_lexer": "ipython3",
   "version": "3.8.8"
  }
 },
 "nbformat": 4,
 "nbformat_minor": 5
}
