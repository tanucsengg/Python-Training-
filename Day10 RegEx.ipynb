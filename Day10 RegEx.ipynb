{
 "cells": [
  {
   "cell_type": "markdown",
   "id": "783e34c0",
   "metadata": {},
   "source": [
    "**Day 10RegularExpression**"
   ]
  },
  {
   "cell_type": "markdown",
   "id": "a9024363",
   "metadata": {},
   "source": [
    "- A Regular Expressions (RegEx) is a special sequence of characters that uses a search pattern to find a string or set of strings. \n",
    "- It can detect the presence or absence of a text by matching it with a particular pattern, and also can split a pattern into one or more sub-patterns. \n",
    "- Python provides a re module that supports the use of regex in Python. Its primary function is to offer a search, where it takes a regular expression and a string"
   ]
  },
  {
   "cell_type": "code",
   "execution_count": 28,
   "id": "a50c77b8",
   "metadata": {},
   "outputs": [
    {
     "name": "stdout",
     "output_type": "stream",
     "text": [
      "Start Index: 6\n",
      "End Index: 9\n"
     ]
    }
   ],
   "source": [
    "import re\n",
    " \n",
    "s = 'Hello All I am a Robot with lots of code'\n",
    " \n",
    "match = re.search(r'All', s)\n",
    " \n",
    "print('Start Index:', match.start())\n",
    "print('End Index:', match.end())"
   ]
  },
  {
   "cell_type": "markdown",
   "id": "0c2e31fc",
   "metadata": {},
   "source": [
    "Meta Characters  Description\n",
    "- \\\t  - Used to drop the special meaning of character following it\n",
    "- []  - Represent a character class\n",
    "- ^\t- Matches the beginning\n",
    "- $\t -  Matches the end\n",
    "- .\t- Matches any character except newline\n",
    "- |\t- Means OR (Matches with any of the characters separated by it.\n",
    "- ?\t- Matches zero or one occurrence\n",
    "- *\t Any number of occurrences (including 0 occurrences)\n",
    "- +\t One or more occurrences\n",
    "- {} - Indicate the number of occurrences of a preceding regex to match.\n",
    "- () - Enclose a group of Regex"
   ]
  },
  {
   "cell_type": "markdown",
   "id": "c9c236ec",
   "metadata": {},
   "source": [
    "- backslash (\\)\\ makes sure that the character is not treated in a special way. \n",
    "- This can be considered a way of escaping metacharacters.\n",
    "- For example, if you want to search for the dot(.) in the string then you will find that dot(.) will be treated as a special character as is one of the metacharacters (as shown in the above table)."
   ]
  },
  {
   "cell_type": "code",
   "execution_count": 3,
   "id": "dfde4c94",
   "metadata": {},
   "outputs": [
    {
     "name": "stdout",
     "output_type": "stream",
     "text": [
      "<re.Match object; span=(0, 1), match='g'>\n",
      "<re.Match object; span=(5, 6), match='.'>\n"
     ]
    }
   ],
   "source": [
    "import re\n",
    " \n",
    "s = 'geeks.forgeeks'\n",
    " \n",
    "# without using \\\n",
    "match = re.search(r'.', s)\n",
    "print(match)\n",
    " \n",
    "# using \\\n",
    "match = re.search(r'\\.', s)\n",
    "print(match)"
   ]
  },
  {
   "cell_type": "markdown",
   "id": "6f0c28b2",
   "metadata": {},
   "source": [
    "- Square bracket : Square Brackets ([]) represent a character class consisting of a set of characters that we wish to match. \n",
    "- For example, the character class [abc] will match any single a, b, or c. "
   ]
  },
  {
   "cell_type": "markdown",
   "id": "cdf59a73",
   "metadata": {},
   "source": [
    "- Caret (^) symbol matches the beginning of the string i.e. checks whether the string starts with the given character(s) or not."
   ]
  },
  {
   "cell_type": "markdown",
   "id": "d1c6a8e3",
   "metadata": {},
   "source": [
    "- Dollar($) symbol matches the end of the string i.e checks whether the string ends with the given character(s) or not."
   ]
  },
  {
   "cell_type": "markdown",
   "id": "46a77661",
   "metadata": {},
   "source": [
    "- Dot(.) symbol matches only a single character except for the newline character (\\n). "
   ]
  },
  {
   "cell_type": "markdown",
   "id": "1498e1af",
   "metadata": {},
   "source": [
    "- Or symbol works as the or operator meaning it checks whether the pattern before or after the or symbol is present in the string or not."
   ]
  },
  {
   "cell_type": "markdown",
   "id": "f8b8de00",
   "metadata": {},
   "source": [
    "- Question mark(?) checks if the string before the question mark in the regex occurs at least once or not at all."
   ]
  },
  {
   "cell_type": "markdown",
   "id": "554dcd83",
   "metadata": {},
   "source": [
    "- Star (*) symbol matches zero or more occurrences of the regex preceding the * symbol."
   ]
  },
  {
   "cell_type": "markdown",
   "id": "b10c8d80",
   "metadata": {},
   "source": [
    "- Plus (+) symbol matches one or more occurrences of the regex preceding the + symbol. "
   ]
  },
  {
   "cell_type": "markdown",
   "id": "45cbccf6",
   "metadata": {},
   "source": [
    "- {m,n} Braces match any repetitions preceding regex from m to n both inclusive."
   ]
  },
  {
   "cell_type": "markdown",
   "id": "4598a51d",
   "metadata": {},
   "source": [
    "- Group symbol is used to group sub-patterns."
   ]
  },
  {
   "cell_type": "markdown",
   "id": "4ce9524d",
   "metadata": {},
   "source": [
    "- refindall()- Return all non-overlapping matches of pattern in string, as a list of strings."
   ]
  },
  {
   "cell_type": "code",
   "execution_count": 31,
   "id": "55362ff2",
   "metadata": {},
   "outputs": [
    {
     "name": "stdout",
     "output_type": "stream",
     "text": [
      "['56789', '123456789']\n"
     ]
    }
   ],
   "source": [
    "\n",
    "# A Python program to demonstrate working of findall()\n",
    "import re\n",
    " \n",
    "# A sample text string where regular expression is searched.\n",
    "string = \"\"\"Hello I am a datascientist and I like to 56789 read books and code ml models and my number is 123456789\"\"\"\n",
    " \n",
    "# A sample regular expression to find digits.\n",
    "regex = '\\d+'\n",
    " \n",
    "match = re.findall(regex, string)\n",
    "print(match)"
   ]
  },
  {
   "cell_type": "markdown",
   "id": "f5174942",
   "metadata": {},
   "source": [
    "- recompile() - Regular expressions are compiled into pattern objects, which have methods for various operations such as searching for pattern matches or performing string substitutions. "
   ]
  },
  {
   "cell_type": "code",
   "execution_count": 32,
   "id": "29aee19d",
   "metadata": {},
   "outputs": [
    {
     "name": "stdout",
     "output_type": "stream",
     "text": [
      "['e', 'a', 'a', 'e', 'a']\n"
     ]
    }
   ],
   "source": [
    "# Module Regular Expression is imported using __import__().\n",
    "import re\n",
    " \n",
    "# compile() creates regular expression\n",
    "# character class [a-e],\n",
    "# which is equivalent to [abcde].\n",
    "# class [abcde] will match with string with\n",
    "# 'a', 'b', 'c', 'd', 'e'.\n",
    "p = re.compile('[a-e]')\n",
    " \n",
    "# findall() searches for the Regular Expression\n",
    "# and return a list upon finding\n",
    "print(p.findall(\"Hie I am Tanue Solanki\"))"
   ]
  },
  {
   "cell_type": "code",
   "execution_count": 7,
   "id": "6c297e68",
   "metadata": {},
   "outputs": [
    {
     "name": "stdout",
     "output_type": "stream",
     "text": [
      "['1', '0', '1', '2', '0', '2', '2']\n",
      "['10', '1', '2022']\n"
     ]
    }
   ],
   "source": [
    "import re\n",
    " \n",
    "# \\d is equivalent to [0-9].\n",
    "p = re.compile('\\d')\n",
    "print(p.findall(\"I got the code right at  10 A.M. on 1 Sept 2022\"))\n",
    " \n",
    "# \\d+ will match a group on [0-9], group\n",
    "# of one or greater size\n",
    "p = re.compile('\\d+')\n",
    "print(p.findall(\"I got the code right at  10 A.M. on 1 Sept 2022\"))"
   ]
  },
  {
   "cell_type": "code",
   "execution_count": 9,
   "id": "c4eb301c",
   "metadata": {},
   "outputs": [
    {
     "name": "stdout",
     "output_type": "stream",
     "text": [
      "['H', 'e', 's', 'a', 'i', 'd', 'i', 'n', 'v', 'e', 'r', 'y', 'k', 'n', 'o', 'w', 'n', 'l', 'a', 'n', 'g', 'u', 'a', 'g', 'e']\n",
      "['I', 'check', 'his', 'address', 'at', '10', 'avenue', 'link', 'road', 'he', 'said', 'in', 'known', 'language']\n",
      "[' ', ' ', '*', ' ', ' ', ',', ' ', ' ', ' ', '.']\n"
     ]
    }
   ],
   "source": [
    "\n",
    "import re\n",
    " \n",
    "# \\w is equivalent to [a-zA-Z0-9_].\n",
    "p = re.compile('\\w')\n",
    "print(p.findall(\"He said * in very known language.\"))\n",
    " \n",
    "# \\w+ matches to group of alphanumeric character.\n",
    "p = re.compile('\\w+')\n",
    "print(p.findall(\"I check his address at 10 avenue link road , he \\\n",
    "said *** in known language.\"))\n",
    " \n",
    "# \\W matches to non alphanumeric characters.\n",
    "p = re.compile('\\W')\n",
    "print(p.findall(\"He said * in very,  known language.\"))"
   ]
  },
  {
   "cell_type": "code",
   "execution_count": 10,
   "id": "75785665",
   "metadata": {},
   "outputs": [
    {
     "name": "stdout",
     "output_type": "stream",
     "text": [
      "['cd', 'cd', 'cd', 'cd']\n"
     ]
    }
   ],
   "source": [
    "import re\n",
    " \n",
    "# '*' replaces the no. of occurrence\n",
    "# of a character.\n",
    "p = re.compile('cd*')\n",
    "print(p.findall(\"cdascdascdascd\"))"
   ]
  },
  {
   "cell_type": "markdown",
   "id": "e21ec5fc",
   "metadata": {},
   "source": [
    "- resplit()\n",
    "    - Split string by the occurrences of a character or a pattern, upon finding that pattern, the remaining characters from the string are returned as part of the resulting list. "
   ]
  },
  {
   "cell_type": "code",
   "execution_count": null,
   "id": "70ebfe51",
   "metadata": {},
   "outputs": [],
   "source": [
    "# Syntax for resplit()\n",
    "# re.split(pattern, string, maxsplit=0, flags=0)"
   ]
  },
  {
   "cell_type": "code",
   "execution_count": 11,
   "id": "c522a1dd",
   "metadata": {},
   "outputs": [
    {
     "name": "stdout",
     "output_type": "stream",
     "text": [
      "['Time', 'time', 'Time']\n",
      "['Time', 's', 'time', 'Time']\n",
      "['On', '1', 'Sept', '2022', 'at', '04', '02', 'PM']\n",
      "['On ', ' Sept ', ', at ', ':', ' PM']\n"
     ]
    }
   ],
   "source": [
    "from re import split\n",
    " \n",
    "# '\\W+' denotes Non-Alphanumeric Characters\n",
    "# or group of characters Upon finding ','\n",
    "# or whitespace ' ', the split(), splits the\n",
    "# string from that point\n",
    "print(split('\\W+', 'Time, time , Time'))\n",
    "print(split('\\W+', \"Time's time Time\"))\n",
    " \n",
    "# Here ':', ' ' ,',' are not AlphaNumeric thus,\n",
    "# the point where splitting occurs\n",
    "print(split('\\W+', 'On 1 Sept 2022, at 04:02 PM'))\n",
    " \n",
    "# '\\d+' denotes Numeric Characters or group of\n",
    "# characters Splitting occurs at '12', '2016',\n",
    "# '11', '02' only\n",
    "print(split('\\d+', 'On 1 Sept 2022, at 04:02 PM'))"
   ]
  },
  {
   "cell_type": "code",
   "execution_count": 14,
   "id": "1c4d3f66",
   "metadata": {},
   "outputs": [
    {
     "name": "stdout",
     "output_type": "stream",
     "text": [
      "['On ', ' Sept ', ', at 04:02 PM']\n",
      "['H', 'y, wh', 't you lik', ', to pl', 'y']\n",
      "['H', 'y, wh', 't you lik', ', to pl', 'y']\n"
     ]
    }
   ],
   "source": [
    "import re\n",
    " \n",
    "# Splitting will occurs only once, at\n",
    "# '12', returned list will have length 2\n",
    "print(re.split('\\d+', 'On 1 Sept 2022, at 04:02 PM', 2))\n",
    " \n",
    "# 'Boy' and 'boy' will be treated same when\n",
    "# flags = re.IGNORECASE\n",
    "print(re.split('[a-f]+', 'Hey, what you like, to play', flags=re.IGNORECASE))\n",
    "print(re.split('[a-f]+', 'Hey, what you like, to play'))"
   ]
  },
  {
   "cell_type": "markdown",
   "id": "e492dd37",
   "metadata": {},
   "source": [
    "- resub()\n",
    "    - The ‘sub’ in the function stands for SubString, a certain regular expression pattern is searched in the given string(3rd parameter), and upon finding the substring pattern is replaced by repl(2nd parameter), count checks and maintains the number of times this occurs. "
   ]
  },
  {
   "cell_type": "code",
   "execution_count": 33,
   "id": "caba4a77",
   "metadata": {},
   "outputs": [
    {
     "name": "stdout",
     "output_type": "stream",
     "text": [
      "S~*ject has ~*er booked already\n",
      "S~*ject has Uber booked already\n",
      "S~*ject has Uber booked already\n",
      "Baked Beans & Spam\n"
     ]
    }
   ],
   "source": [
    "import re\n",
    "# Regular Expression pattern 'ub' matches the\n",
    "# string at \"Subject\" and \"Uber\". As the CASE\n",
    "# has been ignored, using Flag, 'ub' should\n",
    "# match twice with the string Upon matching,\n",
    "# 'ub' is replaced by '~*' in \"Subject\", and\n",
    "# in \"Uber\", 'Ub' is replaced.\n",
    "print(re.sub('ub', '~*', 'SUBject has Uber booked already',\n",
    "             flags=re.IGNORECASE))\n",
    " \n",
    "# Consider the Case Sensitivity, 'Ub' in\n",
    "# \"Uber\", will not be replaced.\n",
    "print(re.sub('ub', '~*', 'Subject has Uber booked already'))\n",
    " \n",
    "# As count has been given value 1, the maximum\n",
    "# times replacement occurs is 1\n",
    "print(re.sub('ub', '~*', 'Subject has Uber booked already',\n",
    "             count=1, flags=re.IGNORECASE))\n",
    " \n",
    "# 'r' before the pattern denotes RE, \\s is for\n",
    "# start and end of a String.\n",
    "print(re.sub(r'\\sAND\\s', ' & ', 'Baked Beans And Spam',\n",
    "             flags=re.IGNORECASE))"
   ]
  },
  {
   "cell_type": "markdown",
   "id": "2ee046e7",
   "metadata": {},
   "source": [
    "- resubn()\n",
    "    - subn() is similar to sub() in all ways, except in its way of providing output. It returns a tuple with a count of the total of replacement and the new string rather than just the string"
   ]
  },
  {
   "cell_type": "code",
   "execution_count": 16,
   "id": "b1c19d6d",
   "metadata": {},
   "outputs": [
    {
     "name": "stdout",
     "output_type": "stream",
     "text": [
      "('S~*ject has Uber booked already', 1)\n",
      "('S~*ject has ~*er booked already', 2)\n",
      "2\n",
      "S~*ject has ~*er booked already\n"
     ]
    }
   ],
   "source": [
    "#  re.subn(pattern, repl, string, count=0, flags=0)\n",
    "\n",
    "import re\n",
    " \n",
    "print(re.subn('ub', '~*', 'Subject has Uber booked already'))\n",
    " \n",
    "t = re.subn('ub', '~*', 'Subject has Uber booked already',\n",
    "            flags=re.IGNORECASE)\n",
    "print(t)\n",
    "print(len(t))\n",
    " \n",
    "# This will give same output as sub() would have\n",
    "print(t[0])"
   ]
  },
  {
   "cell_type": "markdown",
   "id": "ee319ccb",
   "metadata": {},
   "source": [
    "- re.escape()\n",
    "    - Returns string with all non-alphanumerics backslashed, this is useful if you want to match an arbitrary literal string that may have regular expression metacharacters in it."
   ]
  },
  {
   "cell_type": "code",
   "execution_count": 18,
   "id": "ba46c0f0",
   "metadata": {},
   "outputs": [
    {
     "name": "stdout",
     "output_type": "stream",
     "text": [
      "This\\ is\\ Awesome\\ even\\ 1\\ AM\n",
      "I\\ Asked\\ what\\ is\\ this\\ \\[a\\-9\\],\\ he\\ said\\ \\\t\\ \\^WoW\n"
     ]
    }
   ],
   "source": [
    "import re\n",
    " \n",
    "# escape() returns a string with BackSlash '\\',\n",
    "# before every Non-Alphanumeric Character\n",
    "# In 1st case only ' ', is not alphanumeric\n",
    "# In 2nd case, ' ', caret '^', '-', '[]', '\\'\n",
    "# are not alphanumeric\n",
    "print(re.escape(\"This is Awesome even 1 AM\"))\n",
    "print(re.escape(\"I Asked what is this [a-9], he said \\t ^WoW\"))"
   ]
  },
  {
   "cell_type": "markdown",
   "id": "5a295d0b",
   "metadata": {},
   "source": [
    "- re.search()\n",
    "    - This method either returns None (if the pattern doesn’t match), or a re.MatchObject contains information about the matching part of the string."
   ]
  },
  {
   "cell_type": "code",
   "execution_count": 21,
   "id": "248ea845",
   "metadata": {},
   "outputs": [
    {
     "name": "stdout",
     "output_type": "stream",
     "text": [
      "Match at index 19, 28\n",
      "Full match: Sept 2016\n",
      "Month: Sept\n",
      "Day: 2016\n"
     ]
    }
   ],
   "source": [
    "# A Python program to demonstrate working of re.match().\n",
    "import re\n",
    " \n",
    "# Lets use a regular expression to match a date string\n",
    "# in the form of Month name followed by day number\n",
    "regex = r\"([a-zA-Z]+) (\\d+)\"\n",
    " \n",
    "match = re.search(regex, \"I got admission on Sept 2016\")\n",
    " \n",
    "if match != None:\n",
    " \n",
    "    # We reach here when the expression \"([a-zA-Z]+) (\\d+)\"\n",
    "    # matches the date string.\n",
    " \n",
    "    print (\"Match at index %s, %s\" % (match.start(), match.end()))\n",
    " \n",
    "    # We us group() method to get all the matches and\n",
    "    # captured groups. The groups contain the matched values.\n",
    "    # In particular:\n",
    "    # match.group(0) always returns the fully matched string\n",
    "    # match.group(1) match.group(2), ... return the capture\n",
    "    # groups in order from left to right in the input string\n",
    "    # match.group() is equivalent to match.group(0)\n",
    " \n",
    "   \n",
    "    print (\"Full match: %s\" % (match.group(0)))\n",
    " \n",
    "\n",
    "    print (\"Month: %s\" % (match.group(1)))\n",
    " \n",
    "   \n",
    "    print (\"Day: %s\" % (match.group(2)))\n",
    " \n",
    "else:\n",
    "    print (\"The regex pattern does not match.\")"
   ]
  },
  {
   "cell_type": "markdown",
   "id": "7dab36f9",
   "metadata": {},
   "source": [
    "- match.re attribute returns the regular expression passed and match.string attribute returns the string passed."
   ]
  },
  {
   "cell_type": "code",
   "execution_count": 25,
   "id": "18ac9bb7",
   "metadata": {},
   "outputs": [
    {
     "name": "stdout",
     "output_type": "stream",
     "text": [
      "re.compile('\\\\ba')\n",
      "Welcome to the amazing world of coding\n"
     ]
    }
   ],
   "source": [
    "\n",
    "import re\n",
    " \n",
    "s = \"Welcome to the amazing world of coding\"\n",
    " \n",
    "# here x is the match object\n",
    "res = re.search(r\"\\ba\", s)\n",
    " \n",
    "print(res.re)\n",
    "print(res.string)"
   ]
  }
 ],
 "metadata": {
  "kernelspec": {
   "display_name": "Python 3",
   "language": "python",
   "name": "python3"
  },
  "language_info": {
   "codemirror_mode": {
    "name": "ipython",
    "version": 3
   },
   "file_extension": ".py",
   "mimetype": "text/x-python",
   "name": "python",
   "nbconvert_exporter": "python",
   "pygments_lexer": "ipython3",
   "version": "3.8.8"
  }
 },
 "nbformat": 4,
 "nbformat_minor": 5
}
